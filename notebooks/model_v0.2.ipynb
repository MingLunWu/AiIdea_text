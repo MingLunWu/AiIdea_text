{
 "cells": [
  {
   "cell_type": "markdown",
   "metadata": {},
   "source": [
    "# Model V0.2\n",
    "@ 2020/11/03\n",
    "\n",
    "按照512 tokens 進行 Crop + Padding \n",
    "\n",
    "採用 Weighted Categorical CrossEntropy"
   ]
  },
  {
   "cell_type": "code",
   "execution_count": 1,
   "metadata": {},
   "outputs": [],
   "source": [
    "import os \n",
    "os.chdir(\"/home/clll/AiIdea_text/\")\n",
    "import tensorflow as tf\n",
    "from tensorflow.data import Dataset\n",
    "import pandas as pd\n",
    "from transformers import AutoTokenizer, TFAutoModel\n",
    "import random\n",
    "import matplotlib.pyplot as plt\n",
    "from sklearn.model_selection import train_test_split\n",
    "import math\n",
    "import tensorflow.keras.backend as K\n",
    "import numpy as np"
   ]
  },
  {
   "cell_type": "code",
   "execution_count": 2,
   "metadata": {},
   "outputs": [],
   "source": [
    "train_text = pd.read_csv(\"./data/train_text.csv\")\n",
    "train_label = pd.read_csv(\"./data/train_label.csv\")"
   ]
  },
  {
   "cell_type": "markdown",
   "metadata": {},
   "source": [
    "## 進行斷詞"
   ]
  },
  {
   "cell_type": "code",
   "execution_count": 3,
   "metadata": {},
   "outputs": [],
   "source": [
    "tokenizer = AutoTokenizer.from_pretrained(\"bert-base-chinese\")"
   ]
  },
  {
   "cell_type": "markdown",
   "metadata": {},
   "source": [
    "因為尚未進行裁切，所以會顯示警告。"
   ]
  },
  {
   "cell_type": "code",
   "execution_count": 4,
   "metadata": {
    "scrolled": true
   },
   "outputs": [
    {
     "name": "stderr",
     "output_type": "stream",
     "text": [
      "Token indices sequence length is longer than the specified maximum sequence length for this model (4212 > 512). Running this sequence through the model will result in indexing errors\n",
      "Token indices sequence length is longer than the specified maximum sequence length for this model (2653 > 512). Running this sequence through the model will result in indexing errors\n",
      "Token indices sequence length is longer than the specified maximum sequence length for this model (1690 > 512). Running this sequence through the model will result in indexing errors\n",
      "Token indices sequence length is longer than the specified maximum sequence length for this model (1230 > 512). Running this sequence through the model will result in indexing errors\n",
      "Token indices sequence length is longer than the specified maximum sequence length for this model (768 > 512). Running this sequence through the model will result in indexing errors\n",
      "Token indices sequence length is longer than the specified maximum sequence length for this model (568 > 512). Running this sequence through the model will result in indexing errors\n",
      "Token indices sequence length is longer than the specified maximum sequence length for this model (3102 > 512). Running this sequence through the model will result in indexing errors\n",
      "Token indices sequence length is longer than the specified maximum sequence length for this model (1791 > 512). Running this sequence through the model will result in indexing errors\n",
      "Token indices sequence length is longer than the specified maximum sequence length for this model (1135 > 512). Running this sequence through the model will result in indexing errors\n",
      "Token indices sequence length is longer than the specified maximum sequence length for this model (2214 > 512). Running this sequence through the model will result in indexing errors\n",
      "Token indices sequence length is longer than the specified maximum sequence length for this model (711 > 512). Running this sequence through the model will result in indexing errors\n",
      "Token indices sequence length is longer than the specified maximum sequence length for this model (3504 > 512). Running this sequence through the model will result in indexing errors\n",
      "Token indices sequence length is longer than the specified maximum sequence length for this model (1934 > 512). Running this sequence through the model will result in indexing errors\n",
      "Token indices sequence length is longer than the specified maximum sequence length for this model (1230 > 512). Running this sequence through the model will result in indexing errors\n",
      "Token indices sequence length is longer than the specified maximum sequence length for this model (1341 > 512). Running this sequence through the model will result in indexing errors\n",
      "Token indices sequence length is longer than the specified maximum sequence length for this model (1646 > 512). Running this sequence through the model will result in indexing errors\n",
      "Token indices sequence length is longer than the specified maximum sequence length for this model (3636 > 512). Running this sequence through the model will result in indexing errors\n",
      "Token indices sequence length is longer than the specified maximum sequence length for this model (1205 > 512). Running this sequence through the model will result in indexing errors\n",
      "Token indices sequence length is longer than the specified maximum sequence length for this model (2052 > 512). Running this sequence through the model will result in indexing errors\n",
      "Token indices sequence length is longer than the specified maximum sequence length for this model (2604 > 512). Running this sequence through the model will result in indexing errors\n",
      "Token indices sequence length is longer than the specified maximum sequence length for this model (1283 > 512). Running this sequence through the model will result in indexing errors\n",
      "Token indices sequence length is longer than the specified maximum sequence length for this model (1810 > 512). Running this sequence through the model will result in indexing errors\n",
      "Token indices sequence length is longer than the specified maximum sequence length for this model (3464 > 512). Running this sequence through the model will result in indexing errors\n",
      "Token indices sequence length is longer than the specified maximum sequence length for this model (1634 > 512). Running this sequence through the model will result in indexing errors\n",
      "Token indices sequence length is longer than the specified maximum sequence length for this model (1703 > 512). Running this sequence through the model will result in indexing errors\n",
      "Token indices sequence length is longer than the specified maximum sequence length for this model (1598 > 512). Running this sequence through the model will result in indexing errors\n",
      "Token indices sequence length is longer than the specified maximum sequence length for this model (3370 > 512). Running this sequence through the model will result in indexing errors\n",
      "Token indices sequence length is longer than the specified maximum sequence length for this model (4295 > 512). Running this sequence through the model will result in indexing errors\n",
      "Token indices sequence length is longer than the specified maximum sequence length for this model (1589 > 512). Running this sequence through the model will result in indexing errors\n",
      "Token indices sequence length is longer than the specified maximum sequence length for this model (1496 > 512). Running this sequence through the model will result in indexing errors\n",
      "Token indices sequence length is longer than the specified maximum sequence length for this model (3756 > 512). Running this sequence through the model will result in indexing errors\n",
      "Token indices sequence length is longer than the specified maximum sequence length for this model (1143 > 512). Running this sequence through the model will result in indexing errors\n",
      "Token indices sequence length is longer than the specified maximum sequence length for this model (2971 > 512). Running this sequence through the model will result in indexing errors\n",
      "Token indices sequence length is longer than the specified maximum sequence length for this model (1761 > 512). Running this sequence through the model will result in indexing errors\n",
      "Token indices sequence length is longer than the specified maximum sequence length for this model (957 > 512). Running this sequence through the model will result in indexing errors\n",
      "Token indices sequence length is longer than the specified maximum sequence length for this model (2460 > 512). Running this sequence through the model will result in indexing errors\n",
      "Token indices sequence length is longer than the specified maximum sequence length for this model (5277 > 512). Running this sequence through the model will result in indexing errors\n",
      "Token indices sequence length is longer than the specified maximum sequence length for this model (883 > 512). Running this sequence through the model will result in indexing errors\n",
      "Token indices sequence length is longer than the specified maximum sequence length for this model (2031 > 512). Running this sequence through the model will result in indexing errors\n",
      "Token indices sequence length is longer than the specified maximum sequence length for this model (1872 > 512). Running this sequence through the model will result in indexing errors\n",
      "Token indices sequence length is longer than the specified maximum sequence length for this model (1597 > 512). Running this sequence through the model will result in indexing errors\n",
      "Token indices sequence length is longer than the specified maximum sequence length for this model (1591 > 512). Running this sequence through the model will result in indexing errors\n",
      "Token indices sequence length is longer than the specified maximum sequence length for this model (1164 > 512). Running this sequence through the model will result in indexing errors\n",
      "Token indices sequence length is longer than the specified maximum sequence length for this model (2977 > 512). Running this sequence through the model will result in indexing errors\n",
      "Token indices sequence length is longer than the specified maximum sequence length for this model (1739 > 512). Running this sequence through the model will result in indexing errors\n",
      "Token indices sequence length is longer than the specified maximum sequence length for this model (2454 > 512). Running this sequence through the model will result in indexing errors\n",
      "Token indices sequence length is longer than the specified maximum sequence length for this model (2100 > 512). Running this sequence through the model will result in indexing errors\n",
      "Token indices sequence length is longer than the specified maximum sequence length for this model (1608 > 512). Running this sequence through the model will result in indexing errors\n",
      "Token indices sequence length is longer than the specified maximum sequence length for this model (3459 > 512). Running this sequence through the model will result in indexing errors\n",
      "Token indices sequence length is longer than the specified maximum sequence length for this model (1216 > 512). Running this sequence through the model will result in indexing errors\n",
      "Token indices sequence length is longer than the specified maximum sequence length for this model (2610 > 512). Running this sequence through the model will result in indexing errors\n",
      "Token indices sequence length is longer than the specified maximum sequence length for this model (1719 > 512). Running this sequence through the model will result in indexing errors\n",
      "Token indices sequence length is longer than the specified maximum sequence length for this model (582 > 512). Running this sequence through the model will result in indexing errors\n",
      "Token indices sequence length is longer than the specified maximum sequence length for this model (1048 > 512). Running this sequence through the model will result in indexing errors\n",
      "Token indices sequence length is longer than the specified maximum sequence length for this model (1695 > 512). Running this sequence through the model will result in indexing errors\n",
      "Token indices sequence length is longer than the specified maximum sequence length for this model (1228 > 512). Running this sequence through the model will result in indexing errors\n",
      "Token indices sequence length is longer than the specified maximum sequence length for this model (2520 > 512). Running this sequence through the model will result in indexing errors\n",
      "Token indices sequence length is longer than the specified maximum sequence length for this model (2169 > 512). Running this sequence through the model will result in indexing errors\n",
      "Token indices sequence length is longer than the specified maximum sequence length for this model (2361 > 512). Running this sequence through the model will result in indexing errors\n",
      "Token indices sequence length is longer than the specified maximum sequence length for this model (1183 > 512). Running this sequence through the model will result in indexing errors\n",
      "Token indices sequence length is longer than the specified maximum sequence length for this model (1091 > 512). Running this sequence through the model will result in indexing errors\n",
      "Token indices sequence length is longer than the specified maximum sequence length for this model (1385 > 512). Running this sequence through the model will result in indexing errors\n",
      "Token indices sequence length is longer than the specified maximum sequence length for this model (1376 > 512). Running this sequence through the model will result in indexing errors\n",
      "Token indices sequence length is longer than the specified maximum sequence length for this model (1001 > 512). Running this sequence through the model will result in indexing errors\n",
      "Token indices sequence length is longer than the specified maximum sequence length for this model (1660 > 512). Running this sequence through the model will result in indexing errors\n",
      "Token indices sequence length is longer than the specified maximum sequence length for this model (1199 > 512). Running this sequence through the model will result in indexing errors\n",
      "Token indices sequence length is longer than the specified maximum sequence length for this model (662 > 512). Running this sequence through the model will result in indexing errors\n",
      "Token indices sequence length is longer than the specified maximum sequence length for this model (1084 > 512). Running this sequence through the model will result in indexing errors\n",
      "Token indices sequence length is longer than the specified maximum sequence length for this model (2405 > 512). Running this sequence through the model will result in indexing errors\n",
      "Token indices sequence length is longer than the specified maximum sequence length for this model (1687 > 512). Running this sequence through the model will result in indexing errors\n",
      "Token indices sequence length is longer than the specified maximum sequence length for this model (1075 > 512). Running this sequence through the model will result in indexing errors\n",
      "Token indices sequence length is longer than the specified maximum sequence length for this model (3082 > 512). Running this sequence through the model will result in indexing errors\n",
      "Token indices sequence length is longer than the specified maximum sequence length for this model (3690 > 512). Running this sequence through the model will result in indexing errors\n",
      "Token indices sequence length is longer than the specified maximum sequence length for this model (1288 > 512). Running this sequence through the model will result in indexing errors\n",
      "Token indices sequence length is longer than the specified maximum sequence length for this model (985 > 512). Running this sequence through the model will result in indexing errors\n",
      "Token indices sequence length is longer than the specified maximum sequence length for this model (634 > 512). Running this sequence through the model will result in indexing errors\n",
      "Token indices sequence length is longer than the specified maximum sequence length for this model (1332 > 512). Running this sequence through the model will result in indexing errors\n",
      "Token indices sequence length is longer than the specified maximum sequence length for this model (2349 > 512). Running this sequence through the model will result in indexing errors\n",
      "Token indices sequence length is longer than the specified maximum sequence length for this model (1269 > 512). Running this sequence through the model will result in indexing errors\n",
      "Token indices sequence length is longer than the specified maximum sequence length for this model (4080 > 512). Running this sequence through the model will result in indexing errors\n",
      "Token indices sequence length is longer than the specified maximum sequence length for this model (2431 > 512). Running this sequence through the model will result in indexing errors\n",
      "Token indices sequence length is longer than the specified maximum sequence length for this model (1376 > 512). Running this sequence through the model will result in indexing errors\n",
      "Token indices sequence length is longer than the specified maximum sequence length for this model (1817 > 512). Running this sequence through the model will result in indexing errors\n",
      "Token indices sequence length is longer than the specified maximum sequence length for this model (2076 > 512). Running this sequence through the model will result in indexing errors\n",
      "Token indices sequence length is longer than the specified maximum sequence length for this model (2275 > 512). Running this sequence through the model will result in indexing errors\n",
      "Token indices sequence length is longer than the specified maximum sequence length for this model (2748 > 512). Running this sequence through the model will result in indexing errors\n",
      "Token indices sequence length is longer than the specified maximum sequence length for this model (955 > 512). Running this sequence through the model will result in indexing errors\n",
      "Token indices sequence length is longer than the specified maximum sequence length for this model (1158 > 512). Running this sequence through the model will result in indexing errors\n",
      "Token indices sequence length is longer than the specified maximum sequence length for this model (1078 > 512). Running this sequence through the model will result in indexing errors\n",
      "Token indices sequence length is longer than the specified maximum sequence length for this model (1778 > 512). Running this sequence through the model will result in indexing errors\n",
      "Token indices sequence length is longer than the specified maximum sequence length for this model (1765 > 512). Running this sequence through the model will result in indexing errors\n",
      "Token indices sequence length is longer than the specified maximum sequence length for this model (1095 > 512). Running this sequence through the model will result in indexing errors\n",
      "Token indices sequence length is longer than the specified maximum sequence length for this model (1848 > 512). Running this sequence through the model will result in indexing errors\n",
      "Token indices sequence length is longer than the specified maximum sequence length for this model (2076 > 512). Running this sequence through the model will result in indexing errors\n",
      "Token indices sequence length is longer than the specified maximum sequence length for this model (4831 > 512). Running this sequence through the model will result in indexing errors\n",
      "Token indices sequence length is longer than the specified maximum sequence length for this model (1753 > 512). Running this sequence through the model will result in indexing errors\n",
      "Token indices sequence length is longer than the specified maximum sequence length for this model (3234 > 512). Running this sequence through the model will result in indexing errors\n",
      "Token indices sequence length is longer than the specified maximum sequence length for this model (2185 > 512). Running this sequence through the model will result in indexing errors\n",
      "Token indices sequence length is longer than the specified maximum sequence length for this model (1482 > 512). Running this sequence through the model will result in indexing errors\n",
      "Token indices sequence length is longer than the specified maximum sequence length for this model (3336 > 512). Running this sequence through the model will result in indexing errors\n",
      "Token indices sequence length is longer than the specified maximum sequence length for this model (2025 > 512). Running this sequence through the model will result in indexing errors\n",
      "Token indices sequence length is longer than the specified maximum sequence length for this model (1513 > 512). Running this sequence through the model will result in indexing errors\n",
      "Token indices sequence length is longer than the specified maximum sequence length for this model (3160 > 512). Running this sequence through the model will result in indexing errors\n",
      "Token indices sequence length is longer than the specified maximum sequence length for this model (3287 > 512). Running this sequence through the model will result in indexing errors\n",
      "Token indices sequence length is longer than the specified maximum sequence length for this model (3491 > 512). Running this sequence through the model will result in indexing errors\n",
      "Token indices sequence length is longer than the specified maximum sequence length for this model (2679 > 512). Running this sequence through the model will result in indexing errors\n",
      "Token indices sequence length is longer than the specified maximum sequence length for this model (1521 > 512). Running this sequence through the model will result in indexing errors\n",
      "Token indices sequence length is longer than the specified maximum sequence length for this model (2279 > 512). Running this sequence through the model will result in indexing errors\n",
      "Token indices sequence length is longer than the specified maximum sequence length for this model (2827 > 512). Running this sequence through the model will result in indexing errors\n",
      "Token indices sequence length is longer than the specified maximum sequence length for this model (1792 > 512). Running this sequence through the model will result in indexing errors\n",
      "Token indices sequence length is longer than the specified maximum sequence length for this model (1686 > 512). Running this sequence through the model will result in indexing errors\n",
      "Token indices sequence length is longer than the specified maximum sequence length for this model (1400 > 512). Running this sequence through the model will result in indexing errors\n",
      "Token indices sequence length is longer than the specified maximum sequence length for this model (7310 > 512). Running this sequence through the model will result in indexing errors\n",
      "Token indices sequence length is longer than the specified maximum sequence length for this model (1643 > 512). Running this sequence through the model will result in indexing errors\n",
      "Token indices sequence length is longer than the specified maximum sequence length for this model (4066 > 512). Running this sequence through the model will result in indexing errors\n",
      "Token indices sequence length is longer than the specified maximum sequence length for this model (5639 > 512). Running this sequence through the model will result in indexing errors\n",
      "Token indices sequence length is longer than the specified maximum sequence length for this model (2862 > 512). Running this sequence through the model will result in indexing errors\n",
      "Token indices sequence length is longer than the specified maximum sequence length for this model (2616 > 512). Running this sequence through the model will result in indexing errors\n",
      "Token indices sequence length is longer than the specified maximum sequence length for this model (3930 > 512). Running this sequence through the model will result in indexing errors\n",
      "Token indices sequence length is longer than the specified maximum sequence length for this model (1358 > 512). Running this sequence through the model will result in indexing errors\n"
     ]
    }
   ],
   "source": [
    "train_text['text_encoded'] = train_text.text.apply(lambda x: tokenizer.encode(list(x), add_special_tokens=False))"
   ]
  },
  {
   "cell_type": "code",
   "execution_count": 5,
   "metadata": {},
   "outputs": [
    {
     "data": {
      "text/html": [
       "<div>\n",
       "<style scoped>\n",
       "    .dataframe tbody tr th:only-of-type {\n",
       "        vertical-align: middle;\n",
       "    }\n",
       "\n",
       "    .dataframe tbody tr th {\n",
       "        vertical-align: top;\n",
       "    }\n",
       "\n",
       "    .dataframe thead th {\n",
       "        text-align: right;\n",
       "    }\n",
       "</style>\n",
       "<table border=\"1\" class=\"dataframe\">\n",
       "  <thead>\n",
       "    <tr style=\"text-align: right;\">\n",
       "      <th></th>\n",
       "      <th>article_id</th>\n",
       "      <th>text</th>\n",
       "      <th>text_encoded</th>\n",
       "    </tr>\n",
       "  </thead>\n",
       "  <tbody>\n",
       "    <tr>\n",
       "      <th>0</th>\n",
       "      <td>0</td>\n",
       "      <td>醫師：啊回去還好嗎？民眾：欸，還是虛虛的，但。醫師：欸，真的。民眾：好險好險。坦白講我剛回去...</td>\n",
       "      <td>[7015, 2374, 8038, 1557, 1726, 1343, 6917, 196...</td>\n",
       "    </tr>\n",
       "    <tr>\n",
       "      <th>1</th>\n",
       "      <td>1</td>\n",
       "      <td>醫師：阿阿嬤她好像說有，前天又有在發燒喔。家屬：對阿都，有時候都會一天她會燒，誒，可是她這樣...</td>\n",
       "      <td>[7015, 2374, 8038, 7350, 7350, 2085, 1961, 196...</td>\n",
       "    </tr>\n",
       "    <tr>\n",
       "      <th>2</th>\n",
       "      <td>2</td>\n",
       "      <td>民眾：也有點不舒服，可是就是腰這邊有也一點點痛，我脫起來我想……。醫師：來我看一下。民眾：看...</td>\n",
       "      <td>[3696, 4707, 8038, 738, 3300, 7953, 679, 5653,...</td>\n",
       "    </tr>\n",
       "    <tr>\n",
       "      <th>3</th>\n",
       "      <td>3</td>\n",
       "      <td>醫師：謝謝你這樣幫忙他們這樣，那最近還好嗎？民眾：就是因為不太好所以才要再回診，因為我為甚麼...</td>\n",
       "      <td>[7015, 2374, 8038, 6342, 6342, 872, 6857, 3564...</td>\n",
       "    </tr>\n",
       "    <tr>\n",
       "      <th>4</th>\n",
       "      <td>4</td>\n",
       "      <td>醫師：那個，吃藥還Ok嗎？民眾：OK。醫師：沒什麼問題？民眾：沒有。醫師：我們這次CD4是3...</td>\n",
       "      <td>[7015, 2374, 8038, 6929, 943, 8024, 1391, 5973...</td>\n",
       "    </tr>\n",
       "    <tr>\n",
       "      <th>...</th>\n",
       "      <td>...</td>\n",
       "      <td>...</td>\n",
       "      <td>...</td>\n",
       "    </tr>\n",
       "    <tr>\n",
       "      <th>115</th>\n",
       "      <td>115</td>\n",
       "      <td>醫師：所以今天是爲了暴露前預防嘛？民衆：嗯。醫師：你身邊有其他人在吃的嗎？民衆：沒有欸。醫師...</td>\n",
       "      <td>[7015, 2374, 8038, 2792, 809, 791, 1921, 3221,...</td>\n",
       "    </tr>\n",
       "    <tr>\n",
       "      <th>116</th>\n",
       "      <td>116</td>\n",
       "      <td>醫師：所以你這個月，你是任務型嗎？民眾：對。醫師：阿吃幾組？民眾：我印象中應該有4組。醫師：...</td>\n",
       "      <td>[7015, 2374, 8038, 2792, 809, 872, 6857, 943, ...</td>\n",
       "    </tr>\n",
       "    <tr>\n",
       "      <th>117</th>\n",
       "      <td>117</td>\n",
       "      <td>醫師：這個月還好嗎？民衆：這個月還好，上班比較無聊而已。醫師：還可以，上班沒有人有聊的啊。所...</td>\n",
       "      <td>[7015, 2374, 8038, 6857, 943, 3299, 6917, 1962...</td>\n",
       "    </tr>\n",
       "    <tr>\n",
       "      <th>118</th>\n",
       "      <td>118</td>\n",
       "      <td>醫師：那所以今天是要這個暴露前預防？民眾：對。醫師：欸……你，怎麼知道我們的？民眾：因為我是...</td>\n",
       "      <td>[7015, 2374, 8038, 6929, 2792, 809, 791, 1921,...</td>\n",
       "    </tr>\n",
       "    <tr>\n",
       "      <th>119</th>\n",
       "      <td>119</td>\n",
       "      <td>醫師：那所以你現在藥是有繼續在吃？民眾：有。醫師：那比方說像是過去這個月你有性行為嗎？民眾：...</td>\n",
       "      <td>[7015, 2374, 8038, 6929, 2792, 809, 872, 4412,...</td>\n",
       "    </tr>\n",
       "  </tbody>\n",
       "</table>\n",
       "<p>120 rows × 3 columns</p>\n",
       "</div>"
      ],
      "text/plain": [
       "     article_id                                               text  \\\n",
       "0             0  醫師：啊回去還好嗎？民眾：欸，還是虛虛的，但。醫師：欸，真的。民眾：好險好險。坦白講我剛回去...   \n",
       "1             1  醫師：阿阿嬤她好像說有，前天又有在發燒喔。家屬：對阿都，有時候都會一天她會燒，誒，可是她這樣...   \n",
       "2             2  民眾：也有點不舒服，可是就是腰這邊有也一點點痛，我脫起來我想……。醫師：來我看一下。民眾：看...   \n",
       "3             3  醫師：謝謝你這樣幫忙他們這樣，那最近還好嗎？民眾：就是因為不太好所以才要再回診，因為我為甚麼...   \n",
       "4             4  醫師：那個，吃藥還Ok嗎？民眾：OK。醫師：沒什麼問題？民眾：沒有。醫師：我們這次CD4是3...   \n",
       "..          ...                                                ...   \n",
       "115         115  醫師：所以今天是爲了暴露前預防嘛？民衆：嗯。醫師：你身邊有其他人在吃的嗎？民衆：沒有欸。醫師...   \n",
       "116         116  醫師：所以你這個月，你是任務型嗎？民眾：對。醫師：阿吃幾組？民眾：我印象中應該有4組。醫師：...   \n",
       "117         117  醫師：這個月還好嗎？民衆：這個月還好，上班比較無聊而已。醫師：還可以，上班沒有人有聊的啊。所...   \n",
       "118         118  醫師：那所以今天是要這個暴露前預防？民眾：對。醫師：欸……你，怎麼知道我們的？民眾：因為我是...   \n",
       "119         119  醫師：那所以你現在藥是有繼續在吃？民眾：有。醫師：那比方說像是過去這個月你有性行為嗎？民眾：...   \n",
       "\n",
       "                                          text_encoded  \n",
       "0    [7015, 2374, 8038, 1557, 1726, 1343, 6917, 196...  \n",
       "1    [7015, 2374, 8038, 7350, 7350, 2085, 1961, 196...  \n",
       "2    [3696, 4707, 8038, 738, 3300, 7953, 679, 5653,...  \n",
       "3    [7015, 2374, 8038, 6342, 6342, 872, 6857, 3564...  \n",
       "4    [7015, 2374, 8038, 6929, 943, 8024, 1391, 5973...  \n",
       "..                                                 ...  \n",
       "115  [7015, 2374, 8038, 2792, 809, 791, 1921, 3221,...  \n",
       "116  [7015, 2374, 8038, 2792, 809, 872, 6857, 943, ...  \n",
       "117  [7015, 2374, 8038, 6857, 943, 3299, 6917, 1962...  \n",
       "118  [7015, 2374, 8038, 6929, 2792, 809, 791, 1921,...  \n",
       "119  [7015, 2374, 8038, 6929, 2792, 809, 872, 4412,...  \n",
       "\n",
       "[120 rows x 3 columns]"
      ]
     },
     "execution_count": 5,
     "metadata": {},
     "output_type": "execute_result"
    }
   ],
   "source": [
    "train_text"
   ]
  },
  {
   "cell_type": "markdown",
   "metadata": {},
   "source": [
    "順便觀察每篇對話的character數量 (接下來可以發現 Label 極度不平均)"
   ]
  },
  {
   "cell_type": "code",
   "execution_count": 6,
   "metadata": {},
   "outputs": [
    {
     "data": {
      "text/plain": [
       "count     120.000000\n",
       "mean     2110.950000\n",
       "std      1133.878299\n",
       "min       568.000000\n",
       "25%      1286.750000\n",
       "50%      1763.000000\n",
       "75%      2625.250000\n",
       "max      7310.000000\n",
       "Name: text_encoded, dtype: float64"
      ]
     },
     "execution_count": 6,
     "metadata": {},
     "output_type": "execute_result"
    }
   ],
   "source": [
    "train_text.text_encoded.apply(lambda x: len(x)).describe()"
   ]
  },
  {
   "cell_type": "markdown",
   "metadata": {},
   "source": [
    "## 整理 Label 欄位"
   ]
  },
  {
   "cell_type": "code",
   "execution_count": 7,
   "metadata": {},
   "outputs": [
    {
     "data": {
      "text/html": [
       "<div>\n",
       "<style scoped>\n",
       "    .dataframe tbody tr th:only-of-type {\n",
       "        vertical-align: middle;\n",
       "    }\n",
       "\n",
       "    .dataframe tbody tr th {\n",
       "        vertical-align: top;\n",
       "    }\n",
       "\n",
       "    .dataframe thead th {\n",
       "        text-align: right;\n",
       "    }\n",
       "</style>\n",
       "<table border=\"1\" class=\"dataframe\">\n",
       "  <thead>\n",
       "    <tr style=\"text-align: right;\">\n",
       "      <th></th>\n",
       "      <th>article_id</th>\n",
       "      <th>start_position</th>\n",
       "      <th>end_position</th>\n",
       "      <th>entity_text</th>\n",
       "      <th>entity_type</th>\n",
       "    </tr>\n",
       "  </thead>\n",
       "  <tbody>\n",
       "    <tr>\n",
       "      <th>0</th>\n",
       "      <td>0</td>\n",
       "      <td>69</td>\n",
       "      <td>71</td>\n",
       "      <td>前天</td>\n",
       "      <td>time</td>\n",
       "    </tr>\n",
       "    <tr>\n",
       "      <th>1</th>\n",
       "      <td>0</td>\n",
       "      <td>75</td>\n",
       "      <td>77</td>\n",
       "      <td>前天</td>\n",
       "      <td>time</td>\n",
       "    </tr>\n",
       "    <tr>\n",
       "      <th>2</th>\n",
       "      <td>0</td>\n",
       "      <td>738</td>\n",
       "      <td>740</td>\n",
       "      <td>85</td>\n",
       "      <td>med_exam</td>\n",
       "    </tr>\n",
       "    <tr>\n",
       "      <th>3</th>\n",
       "      <td>0</td>\n",
       "      <td>741</td>\n",
       "      <td>744</td>\n",
       "      <td>102</td>\n",
       "      <td>med_exam</td>\n",
       "    </tr>\n",
       "    <tr>\n",
       "      <th>4</th>\n",
       "      <td>0</td>\n",
       "      <td>809</td>\n",
       "      <td>811</td>\n",
       "      <td>前年</td>\n",
       "      <td>time</td>\n",
       "    </tr>\n",
       "    <tr>\n",
       "      <th>...</th>\n",
       "      <td>...</td>\n",
       "      <td>...</td>\n",
       "      <td>...</td>\n",
       "      <td>...</td>\n",
       "      <td>...</td>\n",
       "    </tr>\n",
       "    <tr>\n",
       "      <th>2131</th>\n",
       "      <td>119</td>\n",
       "      <td>1136</td>\n",
       "      <td>1138</td>\n",
       "      <td>彰化</td>\n",
       "      <td>location</td>\n",
       "    </tr>\n",
       "    <tr>\n",
       "      <th>2132</th>\n",
       "      <td>119</td>\n",
       "      <td>1143</td>\n",
       "      <td>1145</td>\n",
       "      <td>彰化</td>\n",
       "      <td>location</td>\n",
       "    </tr>\n",
       "    <tr>\n",
       "      <th>2133</th>\n",
       "      <td>119</td>\n",
       "      <td>1173</td>\n",
       "      <td>1177</td>\n",
       "      <td>彰化醫院</td>\n",
       "      <td>location</td>\n",
       "    </tr>\n",
       "    <tr>\n",
       "      <th>2134</th>\n",
       "      <td>119</td>\n",
       "      <td>1216</td>\n",
       "      <td>1221</td>\n",
       "      <td>陳明明醫師</td>\n",
       "      <td>name</td>\n",
       "    </tr>\n",
       "    <tr>\n",
       "      <th>2135</th>\n",
       "      <td>119</td>\n",
       "      <td>1250</td>\n",
       "      <td>1255</td>\n",
       "      <td>陳明明醫師</td>\n",
       "      <td>name</td>\n",
       "    </tr>\n",
       "  </tbody>\n",
       "</table>\n",
       "<p>2136 rows × 5 columns</p>\n",
       "</div>"
      ],
      "text/plain": [
       "      article_id  start_position  end_position entity_text entity_type\n",
       "0              0              69            71          前天        time\n",
       "1              0              75            77          前天        time\n",
       "2              0             738           740          85    med_exam\n",
       "3              0             741           744         102    med_exam\n",
       "4              0             809           811          前年        time\n",
       "...          ...             ...           ...         ...         ...\n",
       "2131         119            1136          1138          彰化    location\n",
       "2132         119            1143          1145          彰化    location\n",
       "2133         119            1173          1177        彰化醫院    location\n",
       "2134         119            1216          1221       陳明明醫師        name\n",
       "2135         119            1250          1255       陳明明醫師        name\n",
       "\n",
       "[2136 rows x 5 columns]"
      ]
     },
     "execution_count": 7,
     "metadata": {},
     "output_type": "execute_result"
    }
   ],
   "source": [
    "train_label"
   ]
  },
  {
   "cell_type": "code",
   "execution_count": 8,
   "metadata": {},
   "outputs": [],
   "source": [
    "result = {}\n",
    "for a_id in train_text.article_id.iloc:\n",
    "    text_encoded = train_text.query(\"article_id=={}\".format(a_id)).iloc[0].text_encoded\n",
    "    label = [\"other\"] * len(text_encoded)\n",
    "    # ground truth\n",
    "    gt = train_label.query(\"article_id=={}\".format(a_id))\n",
    "\n",
    "    for _, a_gt in gt.iterrows():\n",
    "        start_pos = a_gt.start_position\n",
    "        end_pos = a_gt.end_position\n",
    "        entity_type = a_gt.entity_type\n",
    "        position = list(range(int(start_pos), int(end_pos)))\n",
    "        for x, y in zip(position, [entity_type] * len(position)):\n",
    "            label[x] = y\n",
    "    result[a_id] = label"
   ]
  },
  {
   "cell_type": "code",
   "execution_count": 9,
   "metadata": {},
   "outputs": [
    {
     "data": {
      "text/html": [
       "<div>\n",
       "<style scoped>\n",
       "    .dataframe tbody tr th:only-of-type {\n",
       "        vertical-align: middle;\n",
       "    }\n",
       "\n",
       "    .dataframe tbody tr th {\n",
       "        vertical-align: top;\n",
       "    }\n",
       "\n",
       "    .dataframe thead th {\n",
       "        text-align: right;\n",
       "    }\n",
       "</style>\n",
       "<table border=\"1\" class=\"dataframe\">\n",
       "  <thead>\n",
       "    <tr style=\"text-align: right;\">\n",
       "      <th></th>\n",
       "      <th>article_id</th>\n",
       "      <th>label</th>\n",
       "    </tr>\n",
       "  </thead>\n",
       "  <tbody>\n",
       "    <tr>\n",
       "      <th>0</th>\n",
       "      <td>0</td>\n",
       "      <td>[other, other, other, other, other, other, oth...</td>\n",
       "    </tr>\n",
       "    <tr>\n",
       "      <th>1</th>\n",
       "      <td>1</td>\n",
       "      <td>[other, other, other, other, other, other, oth...</td>\n",
       "    </tr>\n",
       "    <tr>\n",
       "      <th>2</th>\n",
       "      <td>2</td>\n",
       "      <td>[other, other, other, other, other, other, oth...</td>\n",
       "    </tr>\n",
       "    <tr>\n",
       "      <th>3</th>\n",
       "      <td>3</td>\n",
       "      <td>[other, other, other, other, other, other, oth...</td>\n",
       "    </tr>\n",
       "    <tr>\n",
       "      <th>4</th>\n",
       "      <td>4</td>\n",
       "      <td>[other, other, other, other, other, other, oth...</td>\n",
       "    </tr>\n",
       "    <tr>\n",
       "      <th>...</th>\n",
       "      <td>...</td>\n",
       "      <td>...</td>\n",
       "    </tr>\n",
       "    <tr>\n",
       "      <th>115</th>\n",
       "      <td>115</td>\n",
       "      <td>[other, other, other, other, other, time, time...</td>\n",
       "    </tr>\n",
       "    <tr>\n",
       "      <th>116</th>\n",
       "      <td>116</td>\n",
       "      <td>[other, other, other, other, other, other, tim...</td>\n",
       "    </tr>\n",
       "    <tr>\n",
       "      <th>117</th>\n",
       "      <td>117</td>\n",
       "      <td>[other, other, other, time, time, time, other,...</td>\n",
       "    </tr>\n",
       "    <tr>\n",
       "      <th>118</th>\n",
       "      <td>118</td>\n",
       "      <td>[other, other, other, other, other, other, tim...</td>\n",
       "    </tr>\n",
       "    <tr>\n",
       "      <th>119</th>\n",
       "      <td>119</td>\n",
       "      <td>[other, other, other, other, other, other, oth...</td>\n",
       "    </tr>\n",
       "  </tbody>\n",
       "</table>\n",
       "<p>120 rows × 2 columns</p>\n",
       "</div>"
      ],
      "text/plain": [
       "     article_id                                              label\n",
       "0             0  [other, other, other, other, other, other, oth...\n",
       "1             1  [other, other, other, other, other, other, oth...\n",
       "2             2  [other, other, other, other, other, other, oth...\n",
       "3             3  [other, other, other, other, other, other, oth...\n",
       "4             4  [other, other, other, other, other, other, oth...\n",
       "..          ...                                                ...\n",
       "115         115  [other, other, other, other, other, time, time...\n",
       "116         116  [other, other, other, other, other, other, tim...\n",
       "117         117  [other, other, other, time, time, time, other,...\n",
       "118         118  [other, other, other, other, other, other, tim...\n",
       "119         119  [other, other, other, other, other, other, oth...\n",
       "\n",
       "[120 rows x 2 columns]"
      ]
     },
     "execution_count": 9,
     "metadata": {},
     "output_type": "execute_result"
    }
   ],
   "source": [
    "label_preprocessed = pd.DataFrame({\"article_id\":result.keys(), \"label\":result.values()})\n",
    "label_preprocessed"
   ]
  },
  {
   "cell_type": "markdown",
   "metadata": {},
   "source": [
    "將label轉換成index"
   ]
  },
  {
   "cell_type": "code",
   "execution_count": 10,
   "metadata": {},
   "outputs": [
    {
     "data": {
      "text/plain": [
       "other             246748\n",
       "time                4578\n",
       "med_exam             606\n",
       "name                 453\n",
       "location             401\n",
       "money                272\n",
       "contact               98\n",
       "family                53\n",
       "profession            53\n",
       "ID                    23\n",
       "clinical_event        20\n",
       "education              6\n",
       "organization           3\n",
       "Name: code, dtype: int64"
      ]
     },
     "execution_count": 10,
     "metadata": {},
     "output_type": "execute_result"
    }
   ],
   "source": [
    "temp = list()\n",
    "for i in label_preprocessed.label:\n",
    "    temp += i\n",
    "count = pd.DataFrame({'code':temp}).code.value_counts()\n",
    "label2idx = {v:k for (k,v) in enumerate(count.keys())}\n",
    "count"
   ]
  },
  {
   "cell_type": "code",
   "execution_count": 11,
   "metadata": {},
   "outputs": [
    {
     "data": {
      "text/plain": [
       "{'other': 0,\n",
       " 'time': 1,\n",
       " 'med_exam': 2,\n",
       " 'name': 3,\n",
       " 'location': 4,\n",
       " 'money': 5,\n",
       " 'contact': 6,\n",
       " 'family': 7,\n",
       " 'profession': 8,\n",
       " 'ID': 9,\n",
       " 'clinical_event': 10,\n",
       " 'education': 11,\n",
       " 'organization': 12,\n",
       " '[PAD]': 13}"
      ]
     },
     "execution_count": 11,
     "metadata": {},
     "output_type": "execute_result"
    }
   ],
   "source": [
    "label2idx['[PAD]'] = len(label2idx)\n",
    "label2idx"
   ]
  },
  {
   "cell_type": "code",
   "execution_count": 12,
   "metadata": {},
   "outputs": [],
   "source": [
    "label_preprocessed[\"label_encoded\"] = label_preprocessed.label.apply(lambda x:[label2idx[ele] for ele in x])"
   ]
  },
  {
   "cell_type": "code",
   "execution_count": 13,
   "metadata": {},
   "outputs": [
    {
     "data": {
      "text/html": [
       "<div>\n",
       "<style scoped>\n",
       "    .dataframe tbody tr th:only-of-type {\n",
       "        vertical-align: middle;\n",
       "    }\n",
       "\n",
       "    .dataframe tbody tr th {\n",
       "        vertical-align: top;\n",
       "    }\n",
       "\n",
       "    .dataframe thead th {\n",
       "        text-align: right;\n",
       "    }\n",
       "</style>\n",
       "<table border=\"1\" class=\"dataframe\">\n",
       "  <thead>\n",
       "    <tr style=\"text-align: right;\">\n",
       "      <th></th>\n",
       "      <th>article_id</th>\n",
       "      <th>label</th>\n",
       "      <th>label_encoded</th>\n",
       "    </tr>\n",
       "  </thead>\n",
       "  <tbody>\n",
       "    <tr>\n",
       "      <th>0</th>\n",
       "      <td>0</td>\n",
       "      <td>[other, other, other, other, other, other, oth...</td>\n",
       "      <td>[0, 0, 0, 0, 0, 0, 0, 0, 0, 0, 0, 0, 0, 0, 0, ...</td>\n",
       "    </tr>\n",
       "    <tr>\n",
       "      <th>1</th>\n",
       "      <td>1</td>\n",
       "      <td>[other, other, other, other, other, other, oth...</td>\n",
       "      <td>[0, 0, 0, 0, 0, 0, 0, 0, 0, 0, 0, 0, 1, 1, 0, ...</td>\n",
       "    </tr>\n",
       "    <tr>\n",
       "      <th>2</th>\n",
       "      <td>2</td>\n",
       "      <td>[other, other, other, other, other, other, oth...</td>\n",
       "      <td>[0, 0, 0, 0, 0, 0, 0, 0, 0, 0, 0, 0, 0, 0, 0, ...</td>\n",
       "    </tr>\n",
       "    <tr>\n",
       "      <th>3</th>\n",
       "      <td>3</td>\n",
       "      <td>[other, other, other, other, other, other, oth...</td>\n",
       "      <td>[0, 0, 0, 0, 0, 0, 0, 0, 0, 0, 0, 0, 0, 0, 0, ...</td>\n",
       "    </tr>\n",
       "    <tr>\n",
       "      <th>4</th>\n",
       "      <td>4</td>\n",
       "      <td>[other, other, other, other, other, other, oth...</td>\n",
       "      <td>[0, 0, 0, 0, 0, 0, 0, 0, 0, 0, 0, 0, 0, 0, 0, ...</td>\n",
       "    </tr>\n",
       "    <tr>\n",
       "      <th>...</th>\n",
       "      <td>...</td>\n",
       "      <td>...</td>\n",
       "      <td>...</td>\n",
       "    </tr>\n",
       "    <tr>\n",
       "      <th>115</th>\n",
       "      <td>115</td>\n",
       "      <td>[other, other, other, other, other, time, time...</td>\n",
       "      <td>[0, 0, 0, 0, 0, 1, 1, 0, 0, 0, 0, 0, 0, 0, 0, ...</td>\n",
       "    </tr>\n",
       "    <tr>\n",
       "      <th>116</th>\n",
       "      <td>116</td>\n",
       "      <td>[other, other, other, other, other, other, tim...</td>\n",
       "      <td>[0, 0, 0, 0, 0, 0, 1, 1, 1, 0, 0, 0, 0, 0, 0, ...</td>\n",
       "    </tr>\n",
       "    <tr>\n",
       "      <th>117</th>\n",
       "      <td>117</td>\n",
       "      <td>[other, other, other, time, time, time, other,...</td>\n",
       "      <td>[0, 0, 0, 1, 1, 1, 0, 0, 0, 0, 0, 0, 0, 1, 1, ...</td>\n",
       "    </tr>\n",
       "    <tr>\n",
       "      <th>118</th>\n",
       "      <td>118</td>\n",
       "      <td>[other, other, other, other, other, other, tim...</td>\n",
       "      <td>[0, 0, 0, 0, 0, 0, 1, 1, 0, 0, 0, 0, 0, 0, 0, ...</td>\n",
       "    </tr>\n",
       "    <tr>\n",
       "      <th>119</th>\n",
       "      <td>119</td>\n",
       "      <td>[other, other, other, other, other, other, oth...</td>\n",
       "      <td>[0, 0, 0, 0, 0, 0, 0, 0, 0, 0, 0, 0, 0, 0, 0, ...</td>\n",
       "    </tr>\n",
       "  </tbody>\n",
       "</table>\n",
       "<p>120 rows × 3 columns</p>\n",
       "</div>"
      ],
      "text/plain": [
       "     article_id                                              label  \\\n",
       "0             0  [other, other, other, other, other, other, oth...   \n",
       "1             1  [other, other, other, other, other, other, oth...   \n",
       "2             2  [other, other, other, other, other, other, oth...   \n",
       "3             3  [other, other, other, other, other, other, oth...   \n",
       "4             4  [other, other, other, other, other, other, oth...   \n",
       "..          ...                                                ...   \n",
       "115         115  [other, other, other, other, other, time, time...   \n",
       "116         116  [other, other, other, other, other, other, tim...   \n",
       "117         117  [other, other, other, time, time, time, other,...   \n",
       "118         118  [other, other, other, other, other, other, tim...   \n",
       "119         119  [other, other, other, other, other, other, oth...   \n",
       "\n",
       "                                         label_encoded  \n",
       "0    [0, 0, 0, 0, 0, 0, 0, 0, 0, 0, 0, 0, 0, 0, 0, ...  \n",
       "1    [0, 0, 0, 0, 0, 0, 0, 0, 0, 0, 0, 0, 1, 1, 0, ...  \n",
       "2    [0, 0, 0, 0, 0, 0, 0, 0, 0, 0, 0, 0, 0, 0, 0, ...  \n",
       "3    [0, 0, 0, 0, 0, 0, 0, 0, 0, 0, 0, 0, 0, 0, 0, ...  \n",
       "4    [0, 0, 0, 0, 0, 0, 0, 0, 0, 0, 0, 0, 0, 0, 0, ...  \n",
       "..                                                 ...  \n",
       "115  [0, 0, 0, 0, 0, 1, 1, 0, 0, 0, 0, 0, 0, 0, 0, ...  \n",
       "116  [0, 0, 0, 0, 0, 0, 1, 1, 1, 0, 0, 0, 0, 0, 0, ...  \n",
       "117  [0, 0, 0, 1, 1, 1, 0, 0, 0, 0, 0, 0, 0, 1, 1, ...  \n",
       "118  [0, 0, 0, 0, 0, 0, 1, 1, 0, 0, 0, 0, 0, 0, 0, ...  \n",
       "119  [0, 0, 0, 0, 0, 0, 0, 0, 0, 0, 0, 0, 0, 0, 0, ...  \n",
       "\n",
       "[120 rows x 3 columns]"
      ]
     },
     "execution_count": 13,
     "metadata": {},
     "output_type": "execute_result"
    }
   ],
   "source": [
    "label_preprocessed"
   ]
  },
  {
   "cell_type": "markdown",
   "metadata": {},
   "source": [
    "把處理好的文章跟label Merge成同一個Data Frame"
   ]
  },
  {
   "cell_type": "code",
   "execution_count": 14,
   "metadata": {},
   "outputs": [
    {
     "data": {
      "text/html": [
       "<div>\n",
       "<style scoped>\n",
       "    .dataframe tbody tr th:only-of-type {\n",
       "        vertical-align: middle;\n",
       "    }\n",
       "\n",
       "    .dataframe tbody tr th {\n",
       "        vertical-align: top;\n",
       "    }\n",
       "\n",
       "    .dataframe thead th {\n",
       "        text-align: right;\n",
       "    }\n",
       "</style>\n",
       "<table border=\"1\" class=\"dataframe\">\n",
       "  <thead>\n",
       "    <tr style=\"text-align: right;\">\n",
       "      <th></th>\n",
       "      <th>article_id</th>\n",
       "      <th>text</th>\n",
       "      <th>text_encoded</th>\n",
       "      <th>label</th>\n",
       "      <th>label_encoded</th>\n",
       "    </tr>\n",
       "  </thead>\n",
       "  <tbody>\n",
       "    <tr>\n",
       "      <th>0</th>\n",
       "      <td>0</td>\n",
       "      <td>醫師：啊回去還好嗎？民眾：欸，還是虛虛的，但。醫師：欸，真的。民眾：好險好險。坦白講我剛回去...</td>\n",
       "      <td>[7015, 2374, 8038, 1557, 1726, 1343, 6917, 196...</td>\n",
       "      <td>[other, other, other, other, other, other, oth...</td>\n",
       "      <td>[0, 0, 0, 0, 0, 0, 0, 0, 0, 0, 0, 0, 0, 0, 0, ...</td>\n",
       "    </tr>\n",
       "    <tr>\n",
       "      <th>1</th>\n",
       "      <td>1</td>\n",
       "      <td>醫師：阿阿嬤她好像說有，前天又有在發燒喔。家屬：對阿都，有時候都會一天她會燒，誒，可是她這樣...</td>\n",
       "      <td>[7015, 2374, 8038, 7350, 7350, 2085, 1961, 196...</td>\n",
       "      <td>[other, other, other, other, other, other, oth...</td>\n",
       "      <td>[0, 0, 0, 0, 0, 0, 0, 0, 0, 0, 0, 0, 1, 1, 0, ...</td>\n",
       "    </tr>\n",
       "    <tr>\n",
       "      <th>2</th>\n",
       "      <td>2</td>\n",
       "      <td>民眾：也有點不舒服，可是就是腰這邊有也一點點痛，我脫起來我想……。醫師：來我看一下。民眾：看...</td>\n",
       "      <td>[3696, 4707, 8038, 738, 3300, 7953, 679, 5653,...</td>\n",
       "      <td>[other, other, other, other, other, other, oth...</td>\n",
       "      <td>[0, 0, 0, 0, 0, 0, 0, 0, 0, 0, 0, 0, 0, 0, 0, ...</td>\n",
       "    </tr>\n",
       "    <tr>\n",
       "      <th>3</th>\n",
       "      <td>3</td>\n",
       "      <td>醫師：謝謝你這樣幫忙他們這樣，那最近還好嗎？民眾：就是因為不太好所以才要再回診，因為我為甚麼...</td>\n",
       "      <td>[7015, 2374, 8038, 6342, 6342, 872, 6857, 3564...</td>\n",
       "      <td>[other, other, other, other, other, other, oth...</td>\n",
       "      <td>[0, 0, 0, 0, 0, 0, 0, 0, 0, 0, 0, 0, 0, 0, 0, ...</td>\n",
       "    </tr>\n",
       "    <tr>\n",
       "      <th>4</th>\n",
       "      <td>4</td>\n",
       "      <td>醫師：那個，吃藥還Ok嗎？民眾：OK。醫師：沒什麼問題？民眾：沒有。醫師：我們這次CD4是3...</td>\n",
       "      <td>[7015, 2374, 8038, 6929, 943, 8024, 1391, 5973...</td>\n",
       "      <td>[other, other, other, other, other, other, oth...</td>\n",
       "      <td>[0, 0, 0, 0, 0, 0, 0, 0, 0, 0, 0, 0, 0, 0, 0, ...</td>\n",
       "    </tr>\n",
       "    <tr>\n",
       "      <th>...</th>\n",
       "      <td>...</td>\n",
       "      <td>...</td>\n",
       "      <td>...</td>\n",
       "      <td>...</td>\n",
       "      <td>...</td>\n",
       "    </tr>\n",
       "    <tr>\n",
       "      <th>115</th>\n",
       "      <td>115</td>\n",
       "      <td>醫師：所以今天是爲了暴露前預防嘛？民衆：嗯。醫師：你身邊有其他人在吃的嗎？民衆：沒有欸。醫師...</td>\n",
       "      <td>[7015, 2374, 8038, 2792, 809, 791, 1921, 3221,...</td>\n",
       "      <td>[other, other, other, other, other, time, time...</td>\n",
       "      <td>[0, 0, 0, 0, 0, 1, 1, 0, 0, 0, 0, 0, 0, 0, 0, ...</td>\n",
       "    </tr>\n",
       "    <tr>\n",
       "      <th>116</th>\n",
       "      <td>116</td>\n",
       "      <td>醫師：所以你這個月，你是任務型嗎？民眾：對。醫師：阿吃幾組？民眾：我印象中應該有4組。醫師：...</td>\n",
       "      <td>[7015, 2374, 8038, 2792, 809, 872, 6857, 943, ...</td>\n",
       "      <td>[other, other, other, other, other, other, tim...</td>\n",
       "      <td>[0, 0, 0, 0, 0, 0, 1, 1, 1, 0, 0, 0, 0, 0, 0, ...</td>\n",
       "    </tr>\n",
       "    <tr>\n",
       "      <th>117</th>\n",
       "      <td>117</td>\n",
       "      <td>醫師：這個月還好嗎？民衆：這個月還好，上班比較無聊而已。醫師：還可以，上班沒有人有聊的啊。所...</td>\n",
       "      <td>[7015, 2374, 8038, 6857, 943, 3299, 6917, 1962...</td>\n",
       "      <td>[other, other, other, time, time, time, other,...</td>\n",
       "      <td>[0, 0, 0, 1, 1, 1, 0, 0, 0, 0, 0, 0, 0, 1, 1, ...</td>\n",
       "    </tr>\n",
       "    <tr>\n",
       "      <th>118</th>\n",
       "      <td>118</td>\n",
       "      <td>醫師：那所以今天是要這個暴露前預防？民眾：對。醫師：欸……你，怎麼知道我們的？民眾：因為我是...</td>\n",
       "      <td>[7015, 2374, 8038, 6929, 2792, 809, 791, 1921,...</td>\n",
       "      <td>[other, other, other, other, other, other, tim...</td>\n",
       "      <td>[0, 0, 0, 0, 0, 0, 1, 1, 0, 0, 0, 0, 0, 0, 0, ...</td>\n",
       "    </tr>\n",
       "    <tr>\n",
       "      <th>119</th>\n",
       "      <td>119</td>\n",
       "      <td>醫師：那所以你現在藥是有繼續在吃？民眾：有。醫師：那比方說像是過去這個月你有性行為嗎？民眾：...</td>\n",
       "      <td>[7015, 2374, 8038, 6929, 2792, 809, 872, 4412,...</td>\n",
       "      <td>[other, other, other, other, other, other, oth...</td>\n",
       "      <td>[0, 0, 0, 0, 0, 0, 0, 0, 0, 0, 0, 0, 0, 0, 0, ...</td>\n",
       "    </tr>\n",
       "  </tbody>\n",
       "</table>\n",
       "<p>120 rows × 5 columns</p>\n",
       "</div>"
      ],
      "text/plain": [
       "     article_id                                               text  \\\n",
       "0             0  醫師：啊回去還好嗎？民眾：欸，還是虛虛的，但。醫師：欸，真的。民眾：好險好險。坦白講我剛回去...   \n",
       "1             1  醫師：阿阿嬤她好像說有，前天又有在發燒喔。家屬：對阿都，有時候都會一天她會燒，誒，可是她這樣...   \n",
       "2             2  民眾：也有點不舒服，可是就是腰這邊有也一點點痛，我脫起來我想……。醫師：來我看一下。民眾：看...   \n",
       "3             3  醫師：謝謝你這樣幫忙他們這樣，那最近還好嗎？民眾：就是因為不太好所以才要再回診，因為我為甚麼...   \n",
       "4             4  醫師：那個，吃藥還Ok嗎？民眾：OK。醫師：沒什麼問題？民眾：沒有。醫師：我們這次CD4是3...   \n",
       "..          ...                                                ...   \n",
       "115         115  醫師：所以今天是爲了暴露前預防嘛？民衆：嗯。醫師：你身邊有其他人在吃的嗎？民衆：沒有欸。醫師...   \n",
       "116         116  醫師：所以你這個月，你是任務型嗎？民眾：對。醫師：阿吃幾組？民眾：我印象中應該有4組。醫師：...   \n",
       "117         117  醫師：這個月還好嗎？民衆：這個月還好，上班比較無聊而已。醫師：還可以，上班沒有人有聊的啊。所...   \n",
       "118         118  醫師：那所以今天是要這個暴露前預防？民眾：對。醫師：欸……你，怎麼知道我們的？民眾：因為我是...   \n",
       "119         119  醫師：那所以你現在藥是有繼續在吃？民眾：有。醫師：那比方說像是過去這個月你有性行為嗎？民眾：...   \n",
       "\n",
       "                                          text_encoded  \\\n",
       "0    [7015, 2374, 8038, 1557, 1726, 1343, 6917, 196...   \n",
       "1    [7015, 2374, 8038, 7350, 7350, 2085, 1961, 196...   \n",
       "2    [3696, 4707, 8038, 738, 3300, 7953, 679, 5653,...   \n",
       "3    [7015, 2374, 8038, 6342, 6342, 872, 6857, 3564...   \n",
       "4    [7015, 2374, 8038, 6929, 943, 8024, 1391, 5973...   \n",
       "..                                                 ...   \n",
       "115  [7015, 2374, 8038, 2792, 809, 791, 1921, 3221,...   \n",
       "116  [7015, 2374, 8038, 2792, 809, 872, 6857, 943, ...   \n",
       "117  [7015, 2374, 8038, 6857, 943, 3299, 6917, 1962...   \n",
       "118  [7015, 2374, 8038, 6929, 2792, 809, 791, 1921,...   \n",
       "119  [7015, 2374, 8038, 6929, 2792, 809, 872, 4412,...   \n",
       "\n",
       "                                                 label  \\\n",
       "0    [other, other, other, other, other, other, oth...   \n",
       "1    [other, other, other, other, other, other, oth...   \n",
       "2    [other, other, other, other, other, other, oth...   \n",
       "3    [other, other, other, other, other, other, oth...   \n",
       "4    [other, other, other, other, other, other, oth...   \n",
       "..                                                 ...   \n",
       "115  [other, other, other, other, other, time, time...   \n",
       "116  [other, other, other, other, other, other, tim...   \n",
       "117  [other, other, other, time, time, time, other,...   \n",
       "118  [other, other, other, other, other, other, tim...   \n",
       "119  [other, other, other, other, other, other, oth...   \n",
       "\n",
       "                                         label_encoded  \n",
       "0    [0, 0, 0, 0, 0, 0, 0, 0, 0, 0, 0, 0, 0, 0, 0, ...  \n",
       "1    [0, 0, 0, 0, 0, 0, 0, 0, 0, 0, 0, 0, 1, 1, 0, ...  \n",
       "2    [0, 0, 0, 0, 0, 0, 0, 0, 0, 0, 0, 0, 0, 0, 0, ...  \n",
       "3    [0, 0, 0, 0, 0, 0, 0, 0, 0, 0, 0, 0, 0, 0, 0, ...  \n",
       "4    [0, 0, 0, 0, 0, 0, 0, 0, 0, 0, 0, 0, 0, 0, 0, ...  \n",
       "..                                                 ...  \n",
       "115  [0, 0, 0, 0, 0, 1, 1, 0, 0, 0, 0, 0, 0, 0, 0, ...  \n",
       "116  [0, 0, 0, 0, 0, 0, 1, 1, 1, 0, 0, 0, 0, 0, 0, ...  \n",
       "117  [0, 0, 0, 1, 1, 1, 0, 0, 0, 0, 0, 0, 0, 1, 1, ...  \n",
       "118  [0, 0, 0, 0, 0, 0, 1, 1, 0, 0, 0, 0, 0, 0, 0, ...  \n",
       "119  [0, 0, 0, 0, 0, 0, 0, 0, 0, 0, 0, 0, 0, 0, 0, ...  \n",
       "\n",
       "[120 rows x 5 columns]"
      ]
     },
     "execution_count": 14,
     "metadata": {},
     "output_type": "execute_result"
    }
   ],
   "source": [
    "preprocessed_df = pd.merge(train_text, label_preprocessed)\n",
    "preprocessed_df"
   ]
  },
  {
   "cell_type": "markdown",
   "metadata": {},
   "source": [
    "## 裁切資料集"
   ]
  },
  {
   "cell_type": "code",
   "execution_count": 15,
   "metadata": {},
   "outputs": [],
   "source": [
    "art_ids, input_ids, attn_masks, labels = list(), list(), list(), list()\n",
    "for _, a_row in preprocessed_df.iterrows():\n",
    "    art_id = a_row['article_id']\n",
    "    text_encoded = a_row['text_encoded']\n",
    "    label_encoded = a_row['label_encoded']\n",
    "    if len(text_encoded) <= 512:\n",
    "        result = tokenizer.prepare_for_model(text_encoded, max_length=512, padding='max_length', add_special_tokens=False)\n",
    "        art_ids.append(art_id)\n",
    "        input_ids.append(result['input_ids'])\n",
    "        attn_masks.append(result['attention_mask'])\n",
    "        label_encoded += [label2idx['[PAD]']] * (512 - len(label_encoded))\n",
    "        labels.append(label_encoded)\n",
    "    else:\n",
    "        crop_num = math.ceil(len(a_row.text_encoded) / 512)\n",
    "        for crop in range(crop_num):\n",
    "            result = tokenizer.prepare_for_model(text_encoded[512*crop: 512*(crop+1)], max_length=512, padding='max_length', add_special_tokens=False)\n",
    "            art_ids.append(art_id)\n",
    "            input_ids.append(result['input_ids'])\n",
    "            attn_masks.append(result['attention_mask'])\n",
    "            insert_label = label_encoded[512*crop: 512*(crop+1)]\n",
    "            if len(insert_label) < 512:\n",
    "                insert_label += [label2idx['[PAD]']] * (512 - len(insert_label))\n",
    "            labels.append(insert_label)\n",
    "                \n",
    "\n",
    "truncated_df = pd.DataFrame({'art_id':art_ids, 'input_id':input_ids, 'attn_mask':attn_masks, 'label':labels})"
   ]
  },
  {
   "cell_type": "code",
   "execution_count": 16,
   "metadata": {},
   "outputs": [
    {
     "data": {
      "text/html": [
       "<div>\n",
       "<style scoped>\n",
       "    .dataframe tbody tr th:only-of-type {\n",
       "        vertical-align: middle;\n",
       "    }\n",
       "\n",
       "    .dataframe tbody tr th {\n",
       "        vertical-align: top;\n",
       "    }\n",
       "\n",
       "    .dataframe thead th {\n",
       "        text-align: right;\n",
       "    }\n",
       "</style>\n",
       "<table border=\"1\" class=\"dataframe\">\n",
       "  <thead>\n",
       "    <tr style=\"text-align: right;\">\n",
       "      <th></th>\n",
       "      <th>art_id</th>\n",
       "      <th>input_id</th>\n",
       "      <th>attn_mask</th>\n",
       "      <th>label</th>\n",
       "    </tr>\n",
       "  </thead>\n",
       "  <tbody>\n",
       "    <tr>\n",
       "      <th>0</th>\n",
       "      <td>0</td>\n",
       "      <td>[7015, 2374, 8038, 1557, 1726, 1343, 6917, 196...</td>\n",
       "      <td>[1, 1, 1, 1, 1, 1, 1, 1, 1, 1, 1, 1, 1, 1, 1, ...</td>\n",
       "      <td>[0, 0, 0, 0, 0, 0, 0, 0, 0, 0, 0, 0, 0, 0, 0, ...</td>\n",
       "    </tr>\n",
       "    <tr>\n",
       "      <th>1</th>\n",
       "      <td>0</td>\n",
       "      <td>[4707, 8038, 749, 6237, 749, 6237, 511, 7015, ...</td>\n",
       "      <td>[1, 1, 1, 1, 1, 1, 1, 1, 1, 1, 1, 1, 1, 1, 1, ...</td>\n",
       "      <td>[0, 0, 0, 0, 0, 0, 0, 0, 0, 0, 0, 0, 0, 0, 0, ...</td>\n",
       "    </tr>\n",
       "    <tr>\n",
       "      <th>2</th>\n",
       "      <td>0</td>\n",
       "      <td>[3696, 4707, 8038, 3221, 511, 7015, 2374, 8038...</td>\n",
       "      <td>[1, 1, 1, 1, 1, 1, 1, 1, 1, 1, 1, 1, 1, 1, 1, ...</td>\n",
       "      <td>[0, 0, 0, 0, 0, 0, 0, 0, 0, 0, 0, 0, 0, 0, 0, ...</td>\n",
       "    </tr>\n",
       "    <tr>\n",
       "      <th>3</th>\n",
       "      <td>0</td>\n",
       "      <td>[1762, 6174, 7481, 8024, 2218, 3221, 1070, 165...</td>\n",
       "      <td>[1, 1, 1, 1, 1, 1, 1, 1, 1, 1, 1, 1, 1, 1, 1, ...</td>\n",
       "      <td>[0, 0, 0, 0, 0, 0, 0, 0, 0, 0, 0, 0, 0, 0, 0, ...</td>\n",
       "    </tr>\n",
       "    <tr>\n",
       "      <th>4</th>\n",
       "      <td>0</td>\n",
       "      <td>[1755, 4020, 4020, 4638, 6857, 3564, 511, 3696...</td>\n",
       "      <td>[1, 1, 1, 1, 1, 1, 1, 1, 1, 1, 1, 1, 1, 1, 1, ...</td>\n",
       "      <td>[0, 0, 0, 0, 0, 0, 0, 0, 0, 0, 0, 0, 0, 0, 0, ...</td>\n",
       "    </tr>\n",
       "    <tr>\n",
       "      <th>...</th>\n",
       "      <td>...</td>\n",
       "      <td>...</td>\n",
       "      <td>...</td>\n",
       "      <td>...</td>\n",
       "    </tr>\n",
       "    <tr>\n",
       "      <th>557</th>\n",
       "      <td>118</td>\n",
       "      <td>[3229, 952, 3298, 3683, 6733, 5653, 3302, 671,...</td>\n",
       "      <td>[1, 1, 1, 1, 1, 1, 1, 1, 1, 1, 1, 1, 1, 1, 1, ...</td>\n",
       "      <td>[0, 0, 0, 0, 0, 0, 0, 0, 0, 0, 0, 0, 0, 0, 0, ...</td>\n",
       "    </tr>\n",
       "    <tr>\n",
       "      <th>558</th>\n",
       "      <td>118</td>\n",
       "      <td>[3564, 511, 1678, 511, 3696, 4707, 8038, 6929,...</td>\n",
       "      <td>[1, 1, 1, 1, 1, 1, 1, 1, 1, 1, 1, 1, 1, 1, 1, ...</td>\n",
       "      <td>[0, 0, 0, 0, 0, 0, 0, 0, 0, 0, 1, 1, 0, 0, 0, ...</td>\n",
       "    </tr>\n",
       "    <tr>\n",
       "      <th>559</th>\n",
       "      <td>119</td>\n",
       "      <td>[7015, 2374, 8038, 6929, 2792, 809, 872, 4412,...</td>\n",
       "      <td>[1, 1, 1, 1, 1, 1, 1, 1, 1, 1, 1, 1, 1, 1, 1, ...</td>\n",
       "      <td>[0, 0, 0, 0, 0, 0, 0, 0, 0, 0, 0, 0, 0, 0, 0, ...</td>\n",
       "    </tr>\n",
       "    <tr>\n",
       "      <th>560</th>\n",
       "      <td>119</td>\n",
       "      <td>[6221, 2533, 3291, 2128, 1059, 671, 763, 1621,...</td>\n",
       "      <td>[1, 1, 1, 1, 1, 1, 1, 1, 1, 1, 1, 1, 1, 1, 1, ...</td>\n",
       "      <td>[0, 0, 0, 0, 0, 0, 0, 0, 0, 0, 0, 0, 0, 0, 0, ...</td>\n",
       "    </tr>\n",
       "    <tr>\n",
       "      <th>561</th>\n",
       "      <td>119</td>\n",
       "      <td>[6857, 3564, 2094, 1621, 8043, 3760, 6929, 793...</td>\n",
       "      <td>[1, 1, 1, 1, 1, 1, 1, 1, 1, 1, 1, 1, 1, 1, 1, ...</td>\n",
       "      <td>[0, 0, 0, 0, 0, 0, 0, 0, 0, 0, 0, 0, 0, 0, 0, ...</td>\n",
       "    </tr>\n",
       "  </tbody>\n",
       "</table>\n",
       "<p>562 rows × 4 columns</p>\n",
       "</div>"
      ],
      "text/plain": [
       "     art_id                                           input_id  \\\n",
       "0         0  [7015, 2374, 8038, 1557, 1726, 1343, 6917, 196...   \n",
       "1         0  [4707, 8038, 749, 6237, 749, 6237, 511, 7015, ...   \n",
       "2         0  [3696, 4707, 8038, 3221, 511, 7015, 2374, 8038...   \n",
       "3         0  [1762, 6174, 7481, 8024, 2218, 3221, 1070, 165...   \n",
       "4         0  [1755, 4020, 4020, 4638, 6857, 3564, 511, 3696...   \n",
       "..      ...                                                ...   \n",
       "557     118  [3229, 952, 3298, 3683, 6733, 5653, 3302, 671,...   \n",
       "558     118  [3564, 511, 1678, 511, 3696, 4707, 8038, 6929,...   \n",
       "559     119  [7015, 2374, 8038, 6929, 2792, 809, 872, 4412,...   \n",
       "560     119  [6221, 2533, 3291, 2128, 1059, 671, 763, 1621,...   \n",
       "561     119  [6857, 3564, 2094, 1621, 8043, 3760, 6929, 793...   \n",
       "\n",
       "                                             attn_mask  \\\n",
       "0    [1, 1, 1, 1, 1, 1, 1, 1, 1, 1, 1, 1, 1, 1, 1, ...   \n",
       "1    [1, 1, 1, 1, 1, 1, 1, 1, 1, 1, 1, 1, 1, 1, 1, ...   \n",
       "2    [1, 1, 1, 1, 1, 1, 1, 1, 1, 1, 1, 1, 1, 1, 1, ...   \n",
       "3    [1, 1, 1, 1, 1, 1, 1, 1, 1, 1, 1, 1, 1, 1, 1, ...   \n",
       "4    [1, 1, 1, 1, 1, 1, 1, 1, 1, 1, 1, 1, 1, 1, 1, ...   \n",
       "..                                                 ...   \n",
       "557  [1, 1, 1, 1, 1, 1, 1, 1, 1, 1, 1, 1, 1, 1, 1, ...   \n",
       "558  [1, 1, 1, 1, 1, 1, 1, 1, 1, 1, 1, 1, 1, 1, 1, ...   \n",
       "559  [1, 1, 1, 1, 1, 1, 1, 1, 1, 1, 1, 1, 1, 1, 1, ...   \n",
       "560  [1, 1, 1, 1, 1, 1, 1, 1, 1, 1, 1, 1, 1, 1, 1, ...   \n",
       "561  [1, 1, 1, 1, 1, 1, 1, 1, 1, 1, 1, 1, 1, 1, 1, ...   \n",
       "\n",
       "                                                 label  \n",
       "0    [0, 0, 0, 0, 0, 0, 0, 0, 0, 0, 0, 0, 0, 0, 0, ...  \n",
       "1    [0, 0, 0, 0, 0, 0, 0, 0, 0, 0, 0, 0, 0, 0, 0, ...  \n",
       "2    [0, 0, 0, 0, 0, 0, 0, 0, 0, 0, 0, 0, 0, 0, 0, ...  \n",
       "3    [0, 0, 0, 0, 0, 0, 0, 0, 0, 0, 0, 0, 0, 0, 0, ...  \n",
       "4    [0, 0, 0, 0, 0, 0, 0, 0, 0, 0, 0, 0, 0, 0, 0, ...  \n",
       "..                                                 ...  \n",
       "557  [0, 0, 0, 0, 0, 0, 0, 0, 0, 0, 0, 0, 0, 0, 0, ...  \n",
       "558  [0, 0, 0, 0, 0, 0, 0, 0, 0, 0, 1, 1, 0, 0, 0, ...  \n",
       "559  [0, 0, 0, 0, 0, 0, 0, 0, 0, 0, 0, 0, 0, 0, 0, ...  \n",
       "560  [0, 0, 0, 0, 0, 0, 0, 0, 0, 0, 0, 0, 0, 0, 0, ...  \n",
       "561  [0, 0, 0, 0, 0, 0, 0, 0, 0, 0, 0, 0, 0, 0, 0, ...  \n",
       "\n",
       "[562 rows x 4 columns]"
      ]
     },
     "execution_count": 16,
     "metadata": {},
     "output_type": "execute_result"
    }
   ],
   "source": [
    "truncated_df"
   ]
  },
  {
   "cell_type": "markdown",
   "metadata": {},
   "source": [
    "## 準備 Tensorflow Dataset "
   ]
  },
  {
   "cell_type": "code",
   "execution_count": 29,
   "metadata": {},
   "outputs": [
    {
     "data": {
      "text/plain": [
       "0     246748\n",
       "13     34430\n",
       "1       4578\n",
       "2        606\n",
       "3        453\n",
       "4        401\n",
       "5        272\n",
       "6         98\n",
       "8         53\n",
       "7         53\n",
       "9         23\n",
       "10        20\n",
       "11         6\n",
       "12         3\n",
       "Name: code, dtype: int64"
      ]
     },
     "execution_count": 29,
     "metadata": {},
     "output_type": "execute_result"
    }
   ],
   "source": [
    "all_code = list()\n",
    "\n",
    "for _, row in truncated_df.iterrows():\n",
    "    all_code += row.label\n",
    "\n",
    "pd.DataFrame({'code':all_code}).code.value_counts()"
   ]
  },
  {
   "cell_type": "code",
   "execution_count": 30,
   "metadata": {},
   "outputs": [],
   "source": [
    "train_df = truncated_df.sample(n=int(truncated_df.shape[0]*0.9))\n",
    "valid_df = truncated_df[~truncated_df.index.isin(train_df.index)]"
   ]
  },
  {
   "cell_type": "code",
   "execution_count": 31,
   "metadata": {},
   "outputs": [
    {
     "data": {
      "text/plain": [
       "((505, 4), (57, 4))"
      ]
     },
     "execution_count": 31,
     "metadata": {},
     "output_type": "execute_result"
    }
   ],
   "source": [
    "train_df.shape, valid_df.shape"
   ]
  },
  {
   "cell_type": "markdown",
   "metadata": {},
   "source": [
    "確認所有的Label都有被裁切整齊"
   ]
  },
  {
   "cell_type": "code",
   "execution_count": 32,
   "metadata": {},
   "outputs": [
    {
     "data": {
      "text/plain": [
       "count    505.0\n",
       "mean     512.0\n",
       "std        0.0\n",
       "min      512.0\n",
       "25%      512.0\n",
       "50%      512.0\n",
       "75%      512.0\n",
       "max      512.0\n",
       "Name: label, dtype: float64"
      ]
     },
     "execution_count": 32,
     "metadata": {},
     "output_type": "execute_result"
    }
   ],
   "source": [
    "train_df.label.apply(lambda x: len(x)).describe()"
   ]
  },
  {
   "cell_type": "code",
   "execution_count": 33,
   "metadata": {},
   "outputs": [],
   "source": [
    "train_dataset = Dataset.from_tensor_slices(({'input_ids':train_df.input_id.values.tolist(),'attn_masks':train_df.attn_mask.values.tolist()}, train_df.label.values.tolist()))\n",
    "valid_dataset = Dataset.from_tensor_slices(({'input_ids':valid_df.input_id.values.tolist(),'attn_masks':valid_df.attn_mask.values.tolist()}, valid_df.label.values.tolist()))"
   ]
  },
  {
   "cell_type": "markdown",
   "metadata": {},
   "source": [
    "## 建構模型"
   ]
  },
  {
   "cell_type": "code",
   "execution_count": 118,
   "metadata": {},
   "outputs": [
    {
     "name": "stderr",
     "output_type": "stream",
     "text": [
      "Some weights of the model checkpoint at bert-base-chinese were not used when initializing TFBertModel: ['nsp___cls', 'mlm___cls']\n",
      "- This IS expected if you are initializing TFBertModel from the checkpoint of a model trained on another task or with another architecture (e.g. initializing a BertForSequenceClassification model from a BertForPretraining model).\n",
      "- This IS NOT expected if you are initializing TFBertModel from the checkpoint of a model that you expect to be exactly identical (initializing a BertForSequenceClassification model from a BertForSequenceClassification model).\n",
      "All the weights of TFBertModel were initialized from the model checkpoint at bert-base-chinese.\n",
      "If your task is similar to the task the model of the checkpoint was trained on, you can already use TFBertModel for predictions without further training.\n"
     ]
    }
   ],
   "source": [
    "tf.keras.backend.clear_session()\n",
    "bert_zh = TFAutoModel.from_pretrained(\"bert-base-chinese\")\n",
    "input_ids = tf.keras.layers.Input(shape=(512,), dtype='int32', name='input_ids')\n",
    "attn_masks = tf.keras.layers.Input(shape=(512,), dtype='int32', name='attn_masks')\n",
    "last_hidden_state, _ = bert_zh({'input_ids':input_ids, 'attention_mask':attn_masks})\n",
    "X = tf.keras.layers.Dense(64, activation='relu')(last_hidden_state)\n",
    "# X = tf.keras.layers.Dropout(0.5)(X)\n",
    "X = tf.keras.layers.Dense(64, activation='relu')(X)\n",
    "X = tf.keras.layers.Dense(14, activation='softmax')(X)\n",
    "model = tf.keras.Model(inputs={'input_ids':input_ids, 'attn_masks':attn_masks}, outputs=X)"
   ]
  },
  {
   "cell_type": "code",
   "execution_count": 119,
   "metadata": {},
   "outputs": [
    {
     "data": {
      "image/png": "[encoded data removed]",
      "text/plain": [
       "<IPython.core.display.Image object>"
      ]
     },
     "execution_count": 119,
     "metadata": {},
     "output_type": "execute_result"
    }
   ],
   "source": [
    "tf.keras.utils.plot_model(model)"
   ]
  },
  {
   "cell_type": "code",
   "execution_count": 120,
   "metadata": {},
   "outputs": [
    {
     "name": "stdout",
     "output_type": "stream",
     "text": [
      "Model: \"model\"\n",
      "__________________________________________________________________________________________________\n",
      "Layer (type)                    Output Shape         Param #     Connected to                     \n",
      "==================================================================================================\n",
      "attn_masks (InputLayer)         [(None, 512)]        0                                            \n",
      "__________________________________________________________________________________________________\n",
      "input_ids (InputLayer)          [(None, 512)]        0                                            \n",
      "__________________________________________________________________________________________________\n",
      "tf_bert_model (TFBertModel)     ((None, 512, 768), ( 102267648   attn_masks[0][0]                 \n",
      "                                                                 input_ids[0][0]                  \n",
      "__________________________________________________________________________________________________\n",
      "dense (Dense)                   (None, 512, 64)      49216       tf_bert_model[0][0]              \n",
      "__________________________________________________________________________________________________\n",
      "dense_1 (Dense)                 (None, 512, 64)      4160        dense[0][0]                      \n",
      "__________________________________________________________________________________________________\n",
      "dense_2 (Dense)                 (None, 512, 14)      910         dense_1[0][0]                    \n",
      "==================================================================================================\n",
      "Total params: 102,321,934\n",
      "Trainable params: 54,286\n",
      "Non-trainable params: 102,267,648\n",
      "__________________________________________________________________________________________________\n"
     ]
    }
   ],
   "source": [
    "model.get_layer('tf_bert_model').trainable=False\n",
    "model.summary()"
   ]
  },
  {
   "cell_type": "markdown",
   "metadata": {},
   "source": [
    "計算 Weights "
   ]
  },
  {
   "cell_type": "code",
   "execution_count": 111,
   "metadata": {},
   "outputs": [],
   "source": [
    "train_labels = list()\n",
    "for i in train_df.label:\n",
    "    train_labels += i\n",
    "temp = pd.Series(train_labels).value_counts().to_dict()\n",
    "train_labels = list()\n",
    "for i in range(len(temp)):\n",
    "    train_labels.insert(i, temp[i])\n",
    "train_labels = np.array(train_labels)\n",
    "weights = train_labels.sum() / train_labels"
   ]
  },
  {
   "cell_type": "code",
   "execution_count": 121,
   "metadata": {},
   "outputs": [],
   "source": [
    "# Ref: https://gombru.github.io/2018/05/23/cross_entropy_loss/\n",
    "def w_categorical_crossentropy(y_actual, y_pred):\n",
    "    y_actual = tf.one_hot(tf.cast(y_actual, tf.int32), depth=14, dtype=tf.int32)\n",
    "    # Like Softmax(?)\n",
    "    y_pred /= K.sum(y_pred, axis=-1, keepdims=True)\n",
    "    # clip to prevent NaN's and Inf's (加上一個極小的值，避免對0取log會得到無限大)\n",
    "    y_pred = K.clip(y_pred, K.epsilon(), 1 - K.epsilon())\n",
    "    # calc\n",
    "    loss = tf.cast(y_actual,y_pred.dtype) * K.log(y_pred) * weights\n",
    "    loss = -K.sum(loss)\n",
    "    return loss"
   ]
  },
  {
   "cell_type": "code",
   "execution_count": 122,
   "metadata": {},
   "outputs": [],
   "source": [
    "def custom_loss(y_actual, y_pred):\n",
    "    loss = tf.losses.sparse_categorical_crossentropy(y_actual, y_pred, from_logits=False)\n",
    "    loss = tf.reduce_mean(loss)\n",
    "    return loss"
   ]
  },
  {
   "cell_type": "code",
   "execution_count": 123,
   "metadata": {},
   "outputs": [
    {
     "name": "stdout",
     "output_type": "stream",
     "text": [
      "tf.Tensor(4.98688, shape=(), dtype=float32)\n",
      "tf.Tensor(22003.85, shape=(), dtype=float32)\n"
     ]
    }
   ],
   "source": [
    "print(custom_loss(tf.cast(labels,predict.dtype), predict))\n",
    "print(w_categorical_crossentropy(labels, predict))"
   ]
  },
  {
   "cell_type": "code",
   "execution_count": 124,
   "metadata": {},
   "outputs": [],
   "source": [
    "def f1(y_true, y_pred):\n",
    "    y_true = tf.one_hot(tf.cast(y_true, tf.int32), depth=14)\n",
    "    def recall(y_true, y_pred):\n",
    "        \"\"\"Recall metric.\n",
    "\n",
    "        Only computes a batch-wise average of recall.\n",
    "\n",
    "        Computes the recall, a metric for multi-label classification of\n",
    "        how many relevant items are selected.\n",
    "        \"\"\"\n",
    "        true_positives = K.sum(K.round(K.clip(y_true * y_pred, 0, 1)))\n",
    "        possible_positives = K.sum(K.round(K.clip(y_true, 0, 1)))\n",
    "        recall = true_positives / (possible_positives + K.epsilon())\n",
    "        return recall\n",
    "\n",
    "    def precision(y_true, y_pred):\n",
    "        \"\"\"Precision metric.\n",
    "\n",
    "        Only computes a batch-wise average of precision.\n",
    "\n",
    "        Computes the precision, a metric for multi-label classification of\n",
    "        how many selected items are relevant.\n",
    "        \"\"\"\n",
    "        true_positives = K.sum(K.round(K.clip(y_true * y_pred, 0, 1)))\n",
    "        predicted_positives = K.sum(K.round(K.clip(y_pred, 0, 1)))\n",
    "        precision = true_positives / (predicted_positives + K.epsilon())\n",
    "        return precision\n",
    "    precision = precision(y_true, y_pred)\n",
    "    recall = recall(y_true, y_pred)\n",
    "    return 2*((precision*recall)/(precision+recall+K.epsilon()))"
   ]
  },
  {
   "cell_type": "code",
   "execution_count": 125,
   "metadata": {},
   "outputs": [],
   "source": [
    "model.compile(loss=w_categorical_crossentropy, optimizer='adam', metrics=[tf.keras.metrics.SparseCategoricalAccuracy(), f1])"
   ]
  },
  {
   "cell_type": "markdown",
   "metadata": {},
   "source": [
    "## Record : Simple Model + Weighted Loss ( weight = N / N_i )\n",
    "**This is Feature Extraction Based (Due to the lack of data)**\n",
    "\n",
    "**192->14**\n",
    "\n",
    "|Finetune | Weight Function | Valid F1 Range | Notes |\n",
    "|:------:|:---------------:|:--------:|:------:|\n",
    "| No | No W| 0.95~ | f1 score 一直居高不下，但全都猜0 |\n",
    "| No | W = N / N_i     |0.37~0.46| 少部分Class太容易出現了，感覺權重太強烈|\n",
    "| No | W = log(N) / N_i^2 | ~0.40 | 偏差還是太嚴重 |\n",
    "| Yes | W = N / N_i     | --- | 資料量並不適合使用Finetune<br>會全部都是0 |\n",
    "\n",
    "**64->64->14**\n",
    "\n",
    "既然 Training 表現都不夠，感覺是資料不足(?)\n",
    "\n",
    "|Finetune | Weight Function | Valid F1 Range | Notes |\n",
    "|:------:|:---------------:|:--------:|:------:|\n",
    "| No | No W| 0.24~0.30 | Training F1 還是很低 |\n",
    "| No | W = N / N_i || |"
   ]
  },
  {
   "cell_type": "code",
   "execution_count": 126,
   "metadata": {
    "scrolled": true
   },
   "outputs": [
    {
     "name": "stdout",
     "output_type": "stream",
     "text": [
      "Epoch 1/100\n",
      "WARNING:tensorflow:Model was constructed with shape (None, 512) for input Tensor(\"attn_masks:0\", shape=(None, 512), dtype=int32), but it was called on an input with incompatible shape (512, 1).\n",
      "WARNING:tensorflow:Model was constructed with shape (None, 512) for input Tensor(\"input_ids:0\", shape=(None, 512), dtype=int32), but it was called on an input with incompatible shape (512, 1).\n",
      "WARNING:tensorflow:Model was constructed with shape (None, 512) for input Tensor(\"attn_masks:0\", shape=(None, 512), dtype=int32), but it was called on an input with incompatible shape (512, 1).\n",
      "WARNING:tensorflow:Model was constructed with shape (None, 512) for input Tensor(\"input_ids:0\", shape=(None, 512), dtype=int32), but it was called on an input with incompatible shape (512, 1).\n",
      "503/505 [============================>.] - ETA: 0s - loss: 19850.6309 - sparse_categorical_accuracy: 0.1537 - f1: 0.1132WARNING:tensorflow:Model was constructed with shape (None, 512) for input Tensor(\"attn_masks:0\", shape=(None, 512), dtype=int32), but it was called on an input with incompatible shape (512, 1).\n",
      "WARNING:tensorflow:Model was constructed with shape (None, 512) for input Tensor(\"input_ids:0\", shape=(None, 512), dtype=int32), but it was called on an input with incompatible shape (512, 1).\n",
      "505/505 [==============================] - 9s 18ms/step - loss: 19913.5684 - sparse_categorical_accuracy: 0.1539 - f1: 0.1128 - val_loss: 8207.6953 - val_sparse_categorical_accuracy: 0.3629 - val_f1: 0.1824\n",
      "Epoch 2/100\n",
      "505/505 [==============================] - 8s 17ms/step - loss: 18740.8594 - sparse_categorical_accuracy: 0.1775 - f1: 0.1156 - val_loss: 8173.9375 - val_sparse_categorical_accuracy: 0.5727 - val_f1: 0.1824\n",
      "Epoch 3/100\n",
      "505/505 [==============================] - 8s 17ms/step - loss: 18095.6387 - sparse_categorical_accuracy: 0.1687 - f1: 0.1163 - val_loss: 7962.4224 - val_sparse_categorical_accuracy: 0.2948 - val_f1: 0.1824\n",
      "Epoch 4/100\n",
      "505/505 [==============================] - 8s 17ms/step - loss: 18047.5527 - sparse_categorical_accuracy: 0.1289 - f1: 0.1203 - val_loss: 8223.9609 - val_sparse_categorical_accuracy: 0.2163 - val_f1: 0.1824\n",
      "Epoch 5/100\n",
      "505/505 [==============================] - 8s 17ms/step - loss: 17834.2246 - sparse_categorical_accuracy: 0.1723 - f1: 0.1249 - val_loss: 7977.0103 - val_sparse_categorical_accuracy: 0.1632 - val_f1: 0.1821\n",
      "Epoch 6/100\n",
      "505/505 [==============================] - 8s 17ms/step - loss: 17777.3789 - sparse_categorical_accuracy: 0.1670 - f1: 0.1261 - val_loss: 8289.4375 - val_sparse_categorical_accuracy: 0.2189 - val_f1: 0.1824\n",
      "Epoch 7/100\n",
      "505/505 [==============================] - 8s 17ms/step - loss: 17469.3027 - sparse_categorical_accuracy: 0.1565 - f1: 0.1172 - val_loss: 7720.5830 - val_sparse_categorical_accuracy: 0.2512 - val_f1: 0.1819\n",
      "Epoch 8/100\n",
      "505/505 [==============================] - 8s 17ms/step - loss: 17341.7988 - sparse_categorical_accuracy: 0.1564 - f1: 0.1251 - val_loss: 7457.7749 - val_sparse_categorical_accuracy: 0.3225 - val_f1: 0.1795\n",
      "Epoch 9/100\n",
      "505/505 [==============================] - 8s 17ms/step - loss: 17454.4414 - sparse_categorical_accuracy: 0.1707 - f1: 0.1269 - val_loss: 8088.7812 - val_sparse_categorical_accuracy: 0.1957 - val_f1: 0.1795\n",
      "Epoch 10/100\n",
      "505/505 [==============================] - 8s 17ms/step - loss: 16848.6133 - sparse_categorical_accuracy: 0.1484 - f1: 0.1276 - val_loss: 7382.6519 - val_sparse_categorical_accuracy: 0.1559 - val_f1: 0.1812\n",
      "Epoch 11/100\n",
      "505/505 [==============================] - 9s 17ms/step - loss: 17065.5508 - sparse_categorical_accuracy: 0.1350 - f1: 0.1252 - val_loss: 7260.7651 - val_sparse_categorical_accuracy: 0.2412 - val_f1: 0.1805\n",
      "Epoch 12/100\n",
      "505/505 [==============================] - 9s 17ms/step - loss: 17844.4297 - sparse_categorical_accuracy: 0.1568 - f1: 0.1247 - val_loss: 6981.0498 - val_sparse_categorical_accuracy: 0.2785 - val_f1: 0.2473\n",
      "Epoch 13/100\n",
      "505/505 [==============================] - 9s 17ms/step - loss: 16973.2988 - sparse_categorical_accuracy: 0.1632 - f1: 0.1260 - val_loss: 7774.5708 - val_sparse_categorical_accuracy: 0.2018 - val_f1: 0.1808\n",
      "Epoch 14/100\n",
      "505/505 [==============================] - 9s 17ms/step - loss: 16167.0176 - sparse_categorical_accuracy: 0.1927 - f1: 0.1258 - val_loss: 7002.2559 - val_sparse_categorical_accuracy: 0.2564 - val_f1: 0.1795\n",
      "Epoch 15/100\n",
      "505/505 [==============================] - 9s 17ms/step - loss: 16979.1270 - sparse_categorical_accuracy: 0.1411 - f1: 0.1246 - val_loss: 7468.5879 - val_sparse_categorical_accuracy: 0.1979 - val_f1: 0.1800\n",
      "Epoch 16/100\n",
      "505/505 [==============================] - 9s 17ms/step - loss: 16420.1406 - sparse_categorical_accuracy: 0.1403 - f1: 0.1261 - val_loss: 7123.2979 - val_sparse_categorical_accuracy: 0.1568 - val_f1: 0.1798\n",
      "Epoch 17/100\n",
      "505/505 [==============================] - 8s 17ms/step - loss: 15792.9414 - sparse_categorical_accuracy: 0.1318 - f1: 0.1268 - val_loss: 6894.5034 - val_sparse_categorical_accuracy: 0.3410 - val_f1: 0.1801\n",
      "Epoch 18/100\n",
      "505/505 [==============================] - 9s 17ms/step - loss: 16033.4062 - sparse_categorical_accuracy: 0.2264 - f1: 0.1275 - val_loss: 6312.7720 - val_sparse_categorical_accuracy: 0.4695 - val_f1: 0.1799\n",
      "Epoch 19/100\n",
      "505/505 [==============================] - 9s 17ms/step - loss: 18405.4980 - sparse_categorical_accuracy: 0.1384 - f1: 0.1290 - val_loss: 7778.5522 - val_sparse_categorical_accuracy: 0.1938 - val_f1: 0.1793\n",
      "Epoch 20/100\n",
      "505/505 [==============================] - 9s 17ms/step - loss: 17092.1621 - sparse_categorical_accuracy: 0.1477 - f1: 0.1285 - val_loss: 7472.3330 - val_sparse_categorical_accuracy: 0.1955 - val_f1: 0.1797\n",
      "Epoch 21/100\n",
      "505/505 [==============================] - 9s 17ms/step - loss: 16500.7852 - sparse_categorical_accuracy: 0.1524 - f1: 0.1286 - val_loss: 7131.9565 - val_sparse_categorical_accuracy: 0.1574 - val_f1: 0.1773\n",
      "Epoch 22/100\n",
      "505/505 [==============================] - 9s 17ms/step - loss: 16516.3047 - sparse_categorical_accuracy: 0.1932 - f1: 0.1287 - val_loss: 6237.1597 - val_sparse_categorical_accuracy: 0.4753 - val_f1: 0.1800\n",
      "Epoch 23/100\n",
      "505/505 [==============================] - 9s 17ms/step - loss: 16832.3613 - sparse_categorical_accuracy: 0.2262 - f1: 0.1288 - val_loss: 7132.6919 - val_sparse_categorical_accuracy: 0.2024 - val_f1: 0.1798\n",
      "Epoch 24/100\n",
      "505/505 [==============================] - 9s 17ms/step - loss: 17770.6738 - sparse_categorical_accuracy: 0.1696 - f1: 0.1293 - val_loss: 7166.7173 - val_sparse_categorical_accuracy: 0.1562 - val_f1: 0.1802\n",
      "Epoch 25/100\n",
      "505/505 [==============================] - 9s 17ms/step - loss: 17592.0312 - sparse_categorical_accuracy: 0.1591 - f1: 0.1293 - val_loss: 6865.9937 - val_sparse_categorical_accuracy: 0.2592 - val_f1: 0.2406\n",
      "Epoch 26/100\n",
      "505/505 [==============================] - 9s 17ms/step - loss: 17000.3125 - sparse_categorical_accuracy: 0.1542 - f1: 0.1321 - val_loss: 6192.0132 - val_sparse_categorical_accuracy: 0.3719 - val_f1: 0.3110\n",
      "Epoch 27/100\n",
      "505/505 [==============================] - 9s 17ms/step - loss: 16133.3770 - sparse_categorical_accuracy: 0.1895 - f1: 0.1290 - val_loss: 7065.4390 - val_sparse_categorical_accuracy: 0.2573 - val_f1: 0.1769\n",
      "Epoch 28/100\n",
      "505/505 [==============================] - 9s 17ms/step - loss: 16635.4824 - sparse_categorical_accuracy: 0.1622 - f1: 0.1272 - val_loss: 7041.2451 - val_sparse_categorical_accuracy: 0.2321 - val_f1: 0.1787\n",
      "Epoch 29/100\n",
      "505/505 [==============================] - 9s 17ms/step - loss: 15621.3896 - sparse_categorical_accuracy: 0.1687 - f1: 0.1267 - val_loss: 7165.2144 - val_sparse_categorical_accuracy: 0.2560 - val_f1: 0.1797\n",
      "Epoch 30/100\n",
      "505/505 [==============================] - 9s 17ms/step - loss: 15515.7295 - sparse_categorical_accuracy: 0.1892 - f1: 0.1276 - val_loss: 6345.7783 - val_sparse_categorical_accuracy: 0.3407 - val_f1: 0.1794\n",
      "Epoch 31/100\n",
      "505/505 [==============================] - 9s 17ms/step - loss: 16740.8164 - sparse_categorical_accuracy: 0.1516 - f1: 0.1277 - val_loss: 6462.2920 - val_sparse_categorical_accuracy: 0.1644 - val_f1: 0.1797\n",
      "Epoch 32/100\n",
      "505/505 [==============================] - 9s 17ms/step - loss: 16821.3750 - sparse_categorical_accuracy: 0.1229 - f1: 0.1275 - val_loss: 7749.3999 - val_sparse_categorical_accuracy: 0.1542 - val_f1: 0.1786\n",
      "Epoch 33/100\n",
      "505/505 [==============================] - 9s 17ms/step - loss: 15683.7461 - sparse_categorical_accuracy: 0.1319 - f1: 0.1283 - val_loss: 7513.9058 - val_sparse_categorical_accuracy: 0.2434 - val_f1: 0.1793\n",
      "Epoch 34/100\n",
      "505/505 [==============================] - 9s 17ms/step - loss: 15457.6016 - sparse_categorical_accuracy: 0.1324 - f1: 0.1281 - val_loss: 7445.9609 - val_sparse_categorical_accuracy: 0.2391 - val_f1: 0.1791\n",
      "Epoch 35/100\n",
      "505/505 [==============================] - 9s 18ms/step - loss: 15093.2949 - sparse_categorical_accuracy: 0.1327 - f1: 0.1284 - val_loss: 6464.2510 - val_sparse_categorical_accuracy: 0.2004 - val_f1: 0.1789\n",
      "Epoch 36/100\n",
      "505/505 [==============================] - 9s 18ms/step - loss: 15716.4688 - sparse_categorical_accuracy: 0.1377 - f1: 0.1285 - val_loss: 7226.4150 - val_sparse_categorical_accuracy: 0.2060 - val_f1: 0.1776\n",
      "Epoch 37/100\n",
      "505/505 [==============================] - 9s 17ms/step - loss: 16412.0352 - sparse_categorical_accuracy: 0.1472 - f1: 0.1284 - val_loss: 6816.4956 - val_sparse_categorical_accuracy: 0.2534 - val_f1: 0.1790\n",
      "Epoch 38/100\n",
      "505/505 [==============================] - 9s 18ms/step - loss: 20017.5020 - sparse_categorical_accuracy: 0.1965 - f1: 0.1284 - val_loss: 7349.8130 - val_sparse_categorical_accuracy: 0.2000 - val_f1: 0.1784\n",
      "Epoch 39/100\n",
      "505/505 [==============================] - 9s 18ms/step - loss: 15870.3105 - sparse_categorical_accuracy: 0.1322 - f1: 0.1279 - val_loss: 6769.4204 - val_sparse_categorical_accuracy: 0.4452 - val_f1: 0.1796\n",
      "Epoch 40/100\n",
      "505/505 [==============================] - 9s 17ms/step - loss: 16492.2715 - sparse_categorical_accuracy: 0.1953 - f1: 0.1333 - val_loss: 7494.2817 - val_sparse_categorical_accuracy: 0.2514 - val_f1: 0.1765\n",
      "Epoch 41/100\n",
      "505/505 [==============================] - 9s 18ms/step - loss: 15375.1572 - sparse_categorical_accuracy: 0.1440 - f1: 0.1322 - val_loss: 7224.5728 - val_sparse_categorical_accuracy: 0.2396 - val_f1: 0.1767\n",
      "Epoch 42/100\n",
      "505/505 [==============================] - 9s 18ms/step - loss: 16151.5615 - sparse_categorical_accuracy: 0.1466 - f1: 0.1193 - val_loss: 7391.9810 - val_sparse_categorical_accuracy: 0.2506 - val_f1: 0.2451\n",
      "Epoch 43/100\n",
      "505/505 [==============================] - 9s 18ms/step - loss: 16003.7842 - sparse_categorical_accuracy: 0.1746 - f1: 0.1337 - val_loss: 7399.2847 - val_sparse_categorical_accuracy: 0.2375 - val_f1: 0.1785\n",
      "Epoch 44/100\n",
      "505/505 [==============================] - 9s 17ms/step - loss: 15767.3447 - sparse_categorical_accuracy: 0.1317 - f1: 0.1302 - val_loss: 7481.5454 - val_sparse_categorical_accuracy: 0.2344 - val_f1: 0.1797\n",
      "Epoch 45/100\n",
      "505/505 [==============================] - 9s 18ms/step - loss: 14501.4336 - sparse_categorical_accuracy: 0.1538 - f1: 0.1414 - val_loss: 7292.3960 - val_sparse_categorical_accuracy: 0.2390 - val_f1: 0.1788\n",
      "Epoch 46/100\n",
      "505/505 [==============================] - 9s 18ms/step - loss: 15057.2715 - sparse_categorical_accuracy: 0.1537 - f1: 0.1335 - val_loss: 7414.9570 - val_sparse_categorical_accuracy: 0.1970 - val_f1: 0.1785\n",
      "Epoch 47/100\n",
      "505/505 [==============================] - 9s 17ms/step - loss: 15688.9609 - sparse_categorical_accuracy: 0.1236 - f1: 0.1290 - val_loss: 7129.0508 - val_sparse_categorical_accuracy: 0.1987 - val_f1: 0.1789\n",
      "Epoch 48/100\n",
      "505/505 [==============================] - 9s 18ms/step - loss: 18904.6758 - sparse_categorical_accuracy: 0.1196 - f1: 0.1289 - val_loss: 7236.9497 - val_sparse_categorical_accuracy: 0.1602 - val_f1: 0.1793\n",
      "Epoch 49/100\n",
      "505/505 [==============================] - 9s 18ms/step - loss: 15536.3027 - sparse_categorical_accuracy: 0.1262 - f1: 0.1301 - val_loss: 7409.4375 - val_sparse_categorical_accuracy: 0.2404 - val_f1: 0.1785\n",
      "Epoch 50/100\n",
      "505/505 [==============================] - 9s 17ms/step - loss: 15730.7920 - sparse_categorical_accuracy: 0.1375 - f1: 0.1203 - val_loss: 6930.9897 - val_sparse_categorical_accuracy: 0.2710 - val_f1: 0.2975\n",
      "Epoch 51/100\n",
      "505/505 [==============================] - 9s 18ms/step - loss: 18197.9590 - sparse_categorical_accuracy: 0.1721 - f1: 0.1347 - val_loss: 7150.0903 - val_sparse_categorical_accuracy: 0.4958 - val_f1: 0.2972\n",
      "Epoch 52/100\n",
      "505/505 [==============================] - 9s 18ms/step - loss: 15846.3975 - sparse_categorical_accuracy: 0.1912 - f1: 0.1320 - val_loss: 7346.6035 - val_sparse_categorical_accuracy: 0.2510 - val_f1: 0.2382\n",
      "Epoch 53/100\n",
      "505/505 [==============================] - 9s 18ms/step - loss: 15541.8047 - sparse_categorical_accuracy: 0.1320 - f1: 0.1325 - val_loss: 7187.2100 - val_sparse_categorical_accuracy: 0.2406 - val_f1: 0.2441\n",
      "Epoch 54/100\n",
      "505/505 [==============================] - 9s 18ms/step - loss: 15560.8125 - sparse_categorical_accuracy: 0.1604 - f1: 0.1343 - val_loss: 7402.8789 - val_sparse_categorical_accuracy: 0.3061 - val_f1: 0.3036\n",
      "Epoch 55/100\n",
      "505/505 [==============================] - 9s 17ms/step - loss: 16888.8555 - sparse_categorical_accuracy: 0.1787 - f1: 0.1350 - val_loss: 7351.8569 - val_sparse_categorical_accuracy: 0.2350 - val_f1: 0.2420\n",
      "Epoch 56/100\n",
      "505/505 [==============================] - 9s 18ms/step - loss: 16563.8516 - sparse_categorical_accuracy: 0.1366 - f1: 0.1316 - val_loss: 7246.6611 - val_sparse_categorical_accuracy: 0.3264 - val_f1: 0.3104\n",
      "Epoch 57/100\n",
      "505/505 [==============================] - 9s 17ms/step - loss: 17992.8906 - sparse_categorical_accuracy: 0.1429 - f1: 0.1316 - val_loss: 7162.5610 - val_sparse_categorical_accuracy: 0.2368 - val_f1: 0.1787\n",
      "Epoch 58/100\n",
      "505/505 [==============================] - 9s 18ms/step - loss: 16749.0293 - sparse_categorical_accuracy: 0.2118 - f1: 0.1303 - val_loss: 7498.5679 - val_sparse_categorical_accuracy: 0.2345 - val_f1: 0.1799\n",
      "Epoch 59/100\n",
      "505/505 [==============================] - 9s 18ms/step - loss: 15342.5459 - sparse_categorical_accuracy: 0.1433 - f1: 0.1341 - val_loss: 7352.0576 - val_sparse_categorical_accuracy: 0.2498 - val_f1: 0.1785\n",
      "Epoch 60/100\n",
      "505/505 [==============================] - 9s 18ms/step - loss: 16827.0215 - sparse_categorical_accuracy: 0.1502 - f1: 0.1374 - val_loss: 7808.5303 - val_sparse_categorical_accuracy: 0.2984 - val_f1: 0.1788\n",
      "Epoch 61/100\n",
      "505/505 [==============================] - 9s 18ms/step - loss: 15893.8291 - sparse_categorical_accuracy: 0.1446 - f1: 0.1313 - val_loss: 7546.3911 - val_sparse_categorical_accuracy: 0.2935 - val_f1: 0.1786\n",
      "Epoch 62/100\n",
      "505/505 [==============================] - 9s 18ms/step - loss: 15142.7988 - sparse_categorical_accuracy: 0.1523 - f1: 0.1329 - val_loss: 6948.9463 - val_sparse_categorical_accuracy: 0.2658 - val_f1: 0.1796\n",
      "Epoch 63/100\n",
      "505/505 [==============================] - 9s 18ms/step - loss: 16756.6504 - sparse_categorical_accuracy: 0.1265 - f1: 0.1299 - val_loss: 7402.1079 - val_sparse_categorical_accuracy: 0.2345 - val_f1: 0.1778\n",
      "Epoch 64/100\n",
      "505/505 [==============================] - 9s 18ms/step - loss: 19041.8770 - sparse_categorical_accuracy: 0.1489 - f1: 0.1296 - val_loss: 7481.7939 - val_sparse_categorical_accuracy: 0.1547 - val_f1: 0.1789\n",
      "Epoch 65/100\n",
      "505/505 [==============================] - 9s 18ms/step - loss: 16033.3867 - sparse_categorical_accuracy: 0.1160 - f1: 0.1260 - val_loss: 7283.7231 - val_sparse_categorical_accuracy: 0.2739 - val_f1: 0.1807\n",
      "Epoch 66/100\n",
      "505/505 [==============================] - 9s 18ms/step - loss: 16078.8203 - sparse_categorical_accuracy: 0.1412 - f1: 0.1321 - val_loss: 6653.1665 - val_sparse_categorical_accuracy: 0.2850 - val_f1: 0.2518\n",
      "Epoch 67/100\n",
      "505/505 [==============================] - 9s 18ms/step - loss: 18401.3203 - sparse_categorical_accuracy: 0.1387 - f1: 0.1323 - val_loss: 7610.5972 - val_sparse_categorical_accuracy: 0.3097 - val_f1: 0.1765\n",
      "Epoch 68/100\n",
      "505/505 [==============================] - 9s 17ms/step - loss: 16141.9551 - sparse_categorical_accuracy: 0.1601 - f1: 0.1315 - val_loss: 8092.4746 - val_sparse_categorical_accuracy: 0.1935 - val_f1: 0.1784\n",
      "Epoch 69/100\n",
      "505/505 [==============================] - 9s 18ms/step - loss: 17042.3535 - sparse_categorical_accuracy: 0.1519 - f1: 0.1323 - val_loss: 7271.5967 - val_sparse_categorical_accuracy: 0.2400 - val_f1: 0.1755\n",
      "Epoch 70/100\n",
      "505/505 [==============================] - 9s 18ms/step - loss: 15068.5801 - sparse_categorical_accuracy: 0.1496 - f1: 0.1329 - val_loss: 7332.1626 - val_sparse_categorical_accuracy: 0.2493 - val_f1: 0.2398\n",
      "Epoch 71/100\n",
      "505/505 [==============================] - 9s 18ms/step - loss: 17781.6016 - sparse_categorical_accuracy: 0.1442 - f1: 0.1321 - val_loss: 7516.5806 - val_sparse_categorical_accuracy: 0.1938 - val_f1: 0.1779\n",
      "Epoch 72/100\n",
      "505/505 [==============================] - 9s 18ms/step - loss: 16049.6221 - sparse_categorical_accuracy: 0.1301 - f1: 0.1310 - val_loss: 7500.2603 - val_sparse_categorical_accuracy: 0.2176 - val_f1: 0.1762\n",
      "Epoch 73/100\n",
      "505/505 [==============================] - 9s 18ms/step - loss: 15985.7793 - sparse_categorical_accuracy: 0.1528 - f1: 0.1307 - val_loss: 7539.4790 - val_sparse_categorical_accuracy: 0.2666 - val_f1: 0.1778\n",
      "Epoch 74/100\n",
      "505/505 [==============================] - 9s 18ms/step - loss: 16744.7441 - sparse_categorical_accuracy: 0.1507 - f1: 0.1313 - val_loss: 7562.8926 - val_sparse_categorical_accuracy: 0.2083 - val_f1: 0.1747\n",
      "Epoch 75/100\n",
      "505/505 [==============================] - 9s 18ms/step - loss: 17741.4258 - sparse_categorical_accuracy: 0.1599 - f1: 0.1312 - val_loss: 7433.6064 - val_sparse_categorical_accuracy: 0.2266 - val_f1: 0.1764\n",
      "Epoch 76/100\n",
      "505/505 [==============================] - 9s 18ms/step - loss: 17178.7812 - sparse_categorical_accuracy: 0.1267 - f1: 0.1287 - val_loss: 7612.6685 - val_sparse_categorical_accuracy: 0.2059 - val_f1: 0.1788\n",
      "Epoch 77/100\n",
      "505/505 [==============================] - 9s 18ms/step - loss: 16917.6406 - sparse_categorical_accuracy: 0.1319 - f1: 0.1328 - val_loss: 7655.5645 - val_sparse_categorical_accuracy: 0.1959 - val_f1: 0.2446\n",
      "Epoch 78/100\n",
      "505/505 [==============================] - 9s 18ms/step - loss: 16567.1230 - sparse_categorical_accuracy: 0.1334 - f1: 0.1314 - val_loss: 6760.9336 - val_sparse_categorical_accuracy: 0.2147 - val_f1: 0.2463\n",
      "Epoch 79/100\n",
      "505/505 [==============================] - 9s 18ms/step - loss: 20361.4043 - sparse_categorical_accuracy: 0.1303 - f1: 0.1299 - val_loss: 7649.8965 - val_sparse_categorical_accuracy: 0.1541 - val_f1: 0.1749\n",
      "Epoch 80/100\n",
      "505/505 [==============================] - 9s 18ms/step - loss: 15108.1650 - sparse_categorical_accuracy: 0.1236 - f1: 0.1297 - val_loss: 7552.4526 - val_sparse_categorical_accuracy: 0.1962 - val_f1: 0.1772\n",
      "Epoch 81/100\n",
      "505/505 [==============================] - 9s 18ms/step - loss: 15520.6846 - sparse_categorical_accuracy: 0.1782 - f1: 0.1422 - val_loss: 8159.7241 - val_sparse_categorical_accuracy: 0.5520 - val_f1: 0.2396\n",
      "Epoch 82/100\n",
      "505/505 [==============================] - 9s 18ms/step - loss: 16021.5537 - sparse_categorical_accuracy: 0.1774 - f1: 0.1310 - val_loss: 7597.2944 - val_sparse_categorical_accuracy: 0.1925 - val_f1: 0.1747\n",
      "Epoch 83/100\n",
      "505/505 [==============================] - 9s 18ms/step - loss: 17008.6270 - sparse_categorical_accuracy: 0.1454 - f1: 0.1296 - val_loss: 7906.9365 - val_sparse_categorical_accuracy: 0.1542 - val_f1: 0.1793\n",
      "Epoch 84/100\n",
      "505/505 [==============================] - 9s 18ms/step - loss: 15122.3018 - sparse_categorical_accuracy: 0.1133 - f1: 0.1292 - val_loss: 7601.1377 - val_sparse_categorical_accuracy: 0.1957 - val_f1: 0.1788\n",
      "Epoch 85/100\n",
      "505/505 [==============================] - 9s 18ms/step - loss: 15571.1504 - sparse_categorical_accuracy: 0.1275 - f1: 0.1309 - val_loss: 7770.6689 - val_sparse_categorical_accuracy: 0.2137 - val_f1: 0.2369\n",
      "Epoch 86/100\n",
      "505/505 [==============================] - 9s 18ms/step - loss: 16384.0918 - sparse_categorical_accuracy: 0.1880 - f1: 0.1332 - val_loss: 7930.5171 - val_sparse_categorical_accuracy: 0.1979 - val_f1: 0.1765\n",
      "Epoch 87/100\n",
      "505/505 [==============================] - 9s 18ms/step - loss: 17531.6348 - sparse_categorical_accuracy: 0.1930 - f1: 0.1350 - val_loss: 8297.1387 - val_sparse_categorical_accuracy: 0.2337 - val_f1: 0.2408\n",
      "Epoch 88/100\n",
      "505/505 [==============================] - 9s 18ms/step - loss: 15800.9375 - sparse_categorical_accuracy: 0.1529 - f1: 0.1350 - val_loss: 8131.8218 - val_sparse_categorical_accuracy: 0.2576 - val_f1: 0.2998\n",
      "Epoch 89/100\n",
      "505/505 [==============================] - 9s 18ms/step - loss: 15734.5469 - sparse_categorical_accuracy: 0.1291 - f1: 0.1317 - val_loss: 8312.7090 - val_sparse_categorical_accuracy: 0.2361 - val_f1: 0.2407\n",
      "Epoch 90/100\n",
      "505/505 [==============================] - 9s 18ms/step - loss: 15402.0273 - sparse_categorical_accuracy: 0.1227 - f1: 0.1295 - val_loss: 7837.6436 - val_sparse_categorical_accuracy: 0.2347 - val_f1: 0.2418\n",
      "Epoch 91/100\n",
      "505/505 [==============================] - 9s 18ms/step - loss: 15556.0732 - sparse_categorical_accuracy: 0.1574 - f1: 0.1336 - val_loss: 7477.9517 - val_sparse_categorical_accuracy: 0.2581 - val_f1: 0.3005\n",
      "Epoch 92/100\n",
      "505/505 [==============================] - 9s 18ms/step - loss: 17130.2656 - sparse_categorical_accuracy: 0.1626 - f1: 0.1311 - val_loss: 6994.7456 - val_sparse_categorical_accuracy: 0.5121 - val_f1: 0.3041\n",
      "Epoch 93/100\n",
      "505/505 [==============================] - 9s 18ms/step - loss: 16541.1582 - sparse_categorical_accuracy: 0.1375 - f1: 0.1325 - val_loss: 8082.5981 - val_sparse_categorical_accuracy: 0.1544 - val_f1: 0.1792\n",
      "Epoch 94/100\n",
      "505/505 [==============================] - 9s 18ms/step - loss: 18541.4512 - sparse_categorical_accuracy: 0.1707 - f1: 0.1335 - val_loss: 7685.5464 - val_sparse_categorical_accuracy: 0.2333 - val_f1: 0.2435\n",
      "Epoch 95/100\n",
      "505/505 [==============================] - 9s 18ms/step - loss: 16653.7871 - sparse_categorical_accuracy: 0.1521 - f1: 0.1354 - val_loss: 8286.1846 - val_sparse_categorical_accuracy: 0.1959 - val_f1: 0.1763\n",
      "Epoch 96/100\n",
      "505/505 [==============================] - 9s 18ms/step - loss: 16222.4648 - sparse_categorical_accuracy: 0.1193 - f1: 0.1306 - val_loss: 7812.7739 - val_sparse_categorical_accuracy: 0.1980 - val_f1: 0.1779\n",
      "Epoch 97/100\n",
      "505/505 [==============================] - 9s 18ms/step - loss: 17062.9512 - sparse_categorical_accuracy: 0.1419 - f1: 0.1334 - val_loss: 8219.0723 - val_sparse_categorical_accuracy: 0.1545 - val_f1: 0.1762\n",
      "Epoch 98/100\n",
      "505/505 [==============================] - 9s 18ms/step - loss: 16591.0996 - sparse_categorical_accuracy: 0.1205 - f1: 0.1310 - val_loss: 8348.9590 - val_sparse_categorical_accuracy: 0.1542 - val_f1: 0.1743\n",
      "Epoch 99/100\n",
      "505/505 [==============================] - 9s 18ms/step - loss: 14787.8789 - sparse_categorical_accuracy: 0.1201 - f1: 0.1319 - val_loss: 8471.3574 - val_sparse_categorical_accuracy: 0.1544 - val_f1: 0.1748\n",
      "Epoch 100/100\n",
      "505/505 [==============================] - 9s 18ms/step - loss: 15002.9336 - sparse_categorical_accuracy: 0.1286 - f1: 0.1357 - val_loss: 8264.5166 - val_sparse_categorical_accuracy: 0.1970 - val_f1: 0.2349\n"
     ]
    }
   ],
   "source": [
    "history = model.fit(\n",
    "    x=train_dataset,\n",
    "    batch_size=16, \n",
    "    epochs=100,\n",
    "    validation_data=valid_dataset\n",
    ")"
   ]
  },
  {
   "cell_type": "code",
   "execution_count": 127,
   "metadata": {},
   "outputs": [
    {
     "data": {
      "text/plain": [
       "[<matplotlib.lines.Line2D at 0x7f53150e2b90>]"
      ]
     },
     "execution_count": 127,
     "metadata": {},
     "output_type": "execute_result"
    },
    {
     "data": {
      "image/png": "[encoded data removed]",
      "text/plain": [
       "<Figure size 432x288 with 1 Axes>"
      ]
     },
     "metadata": {
      "needs_background": "light"
     },
     "output_type": "display_data"
    }
   ],
   "source": [
    "# No W (custom_loss)\n",
    "plt.plot(history.history['val_f1'])"
   ]
  },
  {
   "cell_type": "code",
   "execution_count": 87,
   "metadata": {},
   "outputs": [
    {
     "data": {
      "text/plain": [
       "[<matplotlib.lines.Line2D at 0x7f5416ab7d50>]"
      ]
     },
     "execution_count": 87,
     "metadata": {},
     "output_type": "execute_result"
    },
    {
     "data": {
      "image/png": "[encoded data removed]",
      "text/plain": [
       "<Figure size 432x288 with 1 Axes>"
      ]
     },
     "metadata": {
      "needs_background": "light"
     },
     "output_type": "display_data"
    }
   ],
   "source": [
    "# W = log(N) / (N_i)^2\n",
    "plt.plot(history.history['val_f1'])"
   ]
  },
  {
   "cell_type": "code",
   "execution_count": 54,
   "metadata": {},
   "outputs": [
    {
     "data": {
      "text/plain": [
       "[<matplotlib.lines.Line2D at 0x7f53e2df8750>]"
      ]
     },
     "execution_count": 54,
     "metadata": {},
     "output_type": "execute_result"
    },
    {
     "data": {
      "image/png": "[encoded data removed]",
      "text/plain": [
       "<Figure size 432x288 with 1 Axes>"
      ]
     },
     "metadata": {
      "needs_background": "light"
     },
     "output_type": "display_data"
    }
   ],
   "source": [
    "# W = N / N_i\n",
    "plt.plot(history.history['val_f1'])"
   ]
  },
  {
   "cell_type": "code",
   "execution_count": 128,
   "metadata": {},
   "outputs": [],
   "source": [
    "temp = iter(valid_dataset.batch(1))"
   ]
  },
  {
   "cell_type": "code",
   "execution_count": 129,
   "metadata": {},
   "outputs": [
    {
     "data": {
      "text/plain": [
       "<tf.Tensor: shape=(1, 512), dtype=int32, numpy=\n",
       "array([[0, 0, 0, 0, 0, 0, 0, 0, 0, 0, 0, 0, 1, 1, 0, 0, 0, 0, 0, 0, 0, 0,\n",
       "        0, 0, 0, 0, 0, 0, 0, 0, 0, 0, 0, 0, 0, 0, 0, 0, 0, 0, 0, 0, 0, 0,\n",
       "        0, 0, 1, 1, 0, 0, 0, 0, 0, 0, 0, 0, 0, 0, 0, 0, 0, 0, 0, 0, 0, 0,\n",
       "        0, 0, 0, 0, 0, 0, 0, 1, 1, 1, 1, 0, 0, 0, 0, 0, 0, 0, 1, 1, 1, 1,\n",
       "        1, 0, 0, 0, 0, 0, 2, 2, 2, 2, 0, 0, 0, 0, 0, 0, 0, 0, 0, 0, 0, 0,\n",
       "        0, 0, 0, 0, 0, 0, 0, 0, 0, 0, 0, 0, 0, 0, 0, 0, 0, 0, 0, 0, 0, 0,\n",
       "        0, 0, 0, 0, 0, 0, 0, 0, 0, 0, 0, 0, 0, 0, 0, 0, 0, 0, 0, 0, 0, 0,\n",
       "        0, 0, 0, 0, 0, 0, 0, 0, 0, 0, 0, 0, 0, 0, 0, 0, 0, 0, 0, 0, 0, 0,\n",
       "        0, 0, 0, 0, 0, 0, 0, 0, 0, 0, 0, 0, 0, 0, 0, 0, 0, 0, 0, 0, 0, 0,\n",
       "        0, 0, 0, 0, 0, 0, 0, 0, 0, 0, 0, 0, 0, 0, 0, 0, 0, 0, 0, 0, 0, 0,\n",
       "        0, 0, 0, 0, 0, 0, 0, 0, 0, 0, 0, 0, 0, 0, 0, 0, 0, 0, 0, 0, 0, 0,\n",
       "        0, 0, 0, 0, 0, 0, 0, 0, 0, 0, 0, 0, 0, 0, 0, 0, 0, 0, 0, 0, 0, 0,\n",
       "        0, 0, 0, 0, 0, 0, 0, 0, 0, 0, 0, 0, 0, 0, 0, 0, 0, 0, 0, 0, 0, 0,\n",
       "        0, 0, 0, 0, 0, 0, 0, 0, 0, 0, 0, 0, 0, 0, 0, 0, 0, 0, 0, 0, 0, 0,\n",
       "        0, 0, 0, 0, 0, 0, 0, 0, 0, 0, 0, 0, 0, 0, 0, 0, 0, 0, 0, 0, 0, 0,\n",
       "        0, 0, 0, 0, 0, 0, 0, 0, 0, 0, 0, 0, 0, 0, 0, 0, 0, 0, 0, 0, 0, 0,\n",
       "        0, 0, 0, 0, 0, 0, 0, 0, 0, 0, 0, 0, 0, 0, 0, 0, 0, 0, 0, 0, 0, 0,\n",
       "        0, 0, 0, 0, 0, 0, 0, 0, 0, 0, 0, 0, 0, 0, 0, 0, 0, 0, 0, 0, 0, 0,\n",
       "        0, 0, 0, 0, 0, 0, 0, 0, 0, 0, 0, 0, 0, 0, 0, 0, 0, 0, 0, 0, 0, 0,\n",
       "        0, 0, 0, 0, 0, 0, 0, 0, 0, 0, 0, 0, 0, 0, 0, 0, 0, 0, 0, 0, 0, 0,\n",
       "        0, 0, 0, 0, 0, 0, 0, 0, 0, 0, 0, 0, 0, 0, 0, 0, 0, 0, 0, 0, 0, 0,\n",
       "        0, 0, 0, 0, 0, 0, 0, 0, 0, 0, 0, 0, 0, 0, 0, 0, 0, 0, 0, 0, 0, 0,\n",
       "        0, 0, 0, 0, 0, 0, 0, 0, 0, 0, 0, 0, 0, 0, 0, 0, 0, 0, 0, 0, 0, 0,\n",
       "        0, 0, 0, 0, 0, 0]], dtype=int32)>"
      ]
     },
     "execution_count": 129,
     "metadata": {},
     "output_type": "execute_result"
    }
   ],
   "source": [
    "( features, labels) = next(temp)\n",
    "labels"
   ]
  },
  {
   "cell_type": "code",
   "execution_count": 130,
   "metadata": {},
   "outputs": [
    {
     "data": {
      "text/plain": [
       "array([[ 3,  3, 11,  3,  3,  3, 11, 11,  3, 11, 12, 11, 12, 12, 11, 11,\n",
       "        12, 11, 11, 11,  7,  3,  3, 11, 12,  3,  3,  7, 12, 12, 12, 12,\n",
       "        12, 12, 12, 12, 12, 12, 11, 12, 11, 11, 11, 11, 12, 11, 12, 12,\n",
       "         7, 12, 10, 12, 11,  3,  3,  3, 11, 12, 11, 11,  7, 12, 12,  3,\n",
       "        11,  3, 11, 12, 11, 12, 11, 12, 11, 11, 11, 11, 11, 11, 11, 11,\n",
       "        11, 11,  3,  3,  3, 11,  3, 11,  3, 11,  3,  3, 11,  0,  2, 11,\n",
       "        11, 11, 11,  3,  3, 12, 12, 11, 12, 12, 11, 11, 11, 12, 10, 11,\n",
       "         3,  3, 12, 11, 11, 12,  3, 12, 12,  3, 12, 12, 11, 12, 11,  3,\n",
       "         3,  3,  3, 11, 12, 11, 12,  3,  3, 11, 12, 11,  3, 12, 11,  3,\n",
       "        11, 12, 12,  7,  7, 11, 11, 10, 11, 11, 11,  7,  3, 11, 11, 12,\n",
       "         7, 10,  9,  3,  3, 11,  3,  3,  3,  3, 12, 11, 11, 11,  3,  3,\n",
       "        11, 11, 12, 12, 11,  3,  3,  3,  3,  3,  3, 11, 11, 11, 11, 12,\n",
       "        11, 12, 11, 12, 12, 11,  3, 11,  3, 12,  3,  3,  3,  3, 11, 11,\n",
       "         3,  3,  3,  3,  3, 11,  7,  3,  3, 11, 12, 12,  3,  3,  3,  3,\n",
       "        11,  7, 11, 12, 12, 11,  3,  7, 10, 11,  7, 11, 11, 11,  3, 11,\n",
       "        11, 12,  3,  3, 12, 12, 12, 11,  7,  3, 11, 11, 11, 11, 11, 12,\n",
       "        11, 11,  3,  3,  3, 12, 12, 11, 12, 12, 11,  3,  3, 12, 11, 11,\n",
       "        11, 11,  3, 11, 11, 12, 12, 11,  3,  3, 11,  3,  3, 12, 11, 11,\n",
       "         3,  3, 12, 12,  3, 11, 10, 11, 11, 11, 10, 11, 11, 12, 12, 12,\n",
       "        11, 11, 10, 10, 12, 12, 11, 11, 11, 12, 12, 12, 11,  3,  3, 11,\n",
       "        12, 11, 11, 12, 12, 11, 11, 10, 10, 11, 12, 11, 12, 11, 11, 10,\n",
       "        11, 11,  3,  3, 12, 11, 11,  3,  3, 12, 10, 10, 11, 10, 10, 12,\n",
       "        10, 11, 11, 10, 10, 12, 12, 11,  3,  3, 12, 10, 10, 10, 11, 10,\n",
       "        10, 12,  3,  3, 11, 12, 11,  3,  3, 12, 12, 11, 12,  3,  3,  3,\n",
       "        11, 11, 11, 11,  7,  7,  7, 11,  3, 11, 12, 11,  3,  3, 11, 11,\n",
       "         7,  7,  3,  7, 11,  3, 12, 10, 11, 11, 11,  3,  3, 11, 11, 11,\n",
       "        11, 10, 10, 11, 11, 11, 11, 12,  5, 12, 12, 12, 11, 11, 12, 12,\n",
       "        12, 12, 12, 12, 10, 10,  3,  3, 11, 11, 11,  3,  3, 11,  5, 11,\n",
       "        12, 11, 12, 11, 11, 11, 11, 11, 11, 11, 12, 11, 11, 11, 11, 11,\n",
       "        10, 11, 11, 11,  3,  3, 12, 11, 11, 11, 12, 11, 11, 12, 11, 11,\n",
       "        11, 11, 11, 10, 11, 10, 11, 11,  3,  3, 12, 10, 11, 10, 11, 11,\n",
       "        11,  3, 12, 11, 11,  3,  3, 12, 11, 11, 12,  3, 12, 10,  3,  3]])"
      ]
     },
     "execution_count": 130,
     "metadata": {},
     "output_type": "execute_result"
    }
   ],
   "source": [
    "predict = model.predict(x={'input_ids':features['input_ids'], 'attn_masks':features['attn_masks']})\n",
    "predict.argmax(-1)"
   ]
  },
  {
   "cell_type": "markdown",
   "metadata": {},
   "source": [
    "\n",
    "\n",
    "## 結論 \n",
    "V0.2 版本的模型，加入Weighted權重後，預測的值還是都很固定(不管輸入什麼樣的資料，輸出都長一模一樣)，而且輸出的分數都直接變成`0`, `1`\n",
    "\n",
    "=> 後來釐清是因為Dense Layer不能使用 `Sigmoid`，要使用 `Softmax` (因為我們是Single Label 情境)\n",
    "\n",
    "參考了別人使用 Keras 做 NER 的Model，有可能是資料筆數不太夠: \n",
    "[Reference - NER with Keras and tensorflow](https://towardsdatascience.com/named-entity-recognition-ner-meeting-industrys-requirement-by-applying-state-of-the-art-deep-698d2b3b4ede)\n",
    "\n",
    "**V0.2版本的結論是：加入Weighted調整Loss的想法的確可以讓模型不要全部預測0，但是預測結果還是過度雜亂，尚且無法得到很好的效果**"
   ]
  }
 ],
 "metadata": {
  "kernelspec": {
   "display_name": "tf2",
   "language": "python",
   "name": "tf2"
  },
  "language_info": {
   "codemirror_mode": {
    "name": "ipython",
    "version": 3
   },
   "file_extension": ".py",
   "mimetype": "text/x-python",
   "name": "python",
   "nbconvert_exporter": "python",
   "pygments_lexer": "ipython3",
   "version": "3.7.7"
  }
 },
 "nbformat": 4,
 "nbformat_minor": 4
}
